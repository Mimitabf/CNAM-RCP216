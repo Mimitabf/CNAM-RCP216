{
  "nbformat": 4,
  "nbformat_minor": 0,
  "metadata": {
    "colab": {
      "provenance": [],
      "authorship_tag": "ABX9TyO1ZfnsGkSghS+549b05WR4",
      "include_colab_link": true
    },
    "kernelspec": {
      "name": "python3",
      "display_name": "Python 3"
    },
    "language_info": {
      "name": "python"
    }
  },
  "cells": [
    {
      "cell_type": "markdown",
      "metadata": {
        "id": "view-in-github",
        "colab_type": "text"
      },
      "source": [
        "<a href=\"https://colab.research.google.com/github/Mimitabf/CNAM-RCP216/blob/main/acpTP_et_devoir.ipynb\" target=\"_parent\"><img src=\"https://colab.research.google.com/assets/colab-badge.svg\" alt=\"Open In Colab\"/></a>"
      ]
    },
    {
      "cell_type": "markdown",
      "source": [
        "TP ACP\n",
        "**bold text**"
      ],
      "metadata": {
        "id": "n8AubLEAomw-"
      }
    },
    {
      "cell_type": "code",
      "execution_count": 1,
      "metadata": {
        "colab": {
          "base_uri": "https://localhost:8080/",
          "height": 254
        },
        "id": "E_EK5BXkLWKJ",
        "outputId": "45f6b311-3937-449d-fba6-8a27a703ce92"
      },
      "outputs": [
        {
          "output_type": "stream",
          "name": "stdout",
          "text": [
            "Requirement already satisfied: pyspark in /usr/local/lib/python3.10/dist-packages (3.5.3)\n",
            "Requirement already satisfied: py4j==0.10.9.7 in /usr/local/lib/python3.10/dist-packages (from pyspark) (0.10.9.7)\n"
          ]
        },
        {
          "output_type": "execute_result",
          "data": {
            "text/plain": [
              "<pyspark.sql.session.SparkSession at 0x7e88414fdb40>"
            ],
            "text/html": [
              "\n",
              "            <div>\n",
              "                <p><b>SparkSession - in-memory</b></p>\n",
              "                \n",
              "        <div>\n",
              "            <p><b>SparkContext</b></p>\n",
              "\n",
              "            <p><a href=\"http://4cdcc1fd743d:4040\">Spark UI</a></p>\n",
              "\n",
              "            <dl>\n",
              "              <dt>Version</dt>\n",
              "                <dd><code>v3.5.3</code></dd>\n",
              "              <dt>Master</dt>\n",
              "                <dd><code>local[*]</code></dd>\n",
              "              <dt>AppName</dt>\n",
              "                <dd><code>SparkByExamples</code></dd>\n",
              "            </dl>\n",
              "        </div>\n",
              "        \n",
              "            </div>\n",
              "        "
            ]
          },
          "metadata": {},
          "execution_count": 1
        }
      ],
      "source": [
        "!pip install pyspark\n",
        "from pyspark.sql import SparkSession\n",
        "spark = SparkSession.builder.appName('SparkByExamples').getOrCreate()\n",
        "spark"
      ]
    },
    {
      "cell_type": "code",
      "source": [
        "from pyspark.sql.types import StructType,StructField, StringType, IntegerType, DoubleType\n",
        "spamfields= [StructField(\"val\"+str(i),DoubleType(),True) for i in range(0,57)]\n",
        "spamSchema=StructType(spamfields).add(\"label\",DoubleType(),True)\n",
        "spamDF=spark.read.format(\"csv\").schema(spamSchema).load(\"spambase.data\").cache()\n",
        "spamDF.printSchema()"
      ],
      "metadata": {
        "colab": {
          "base_uri": "https://localhost:8080/"
        },
        "id": "oG-ZPDsKTCA3",
        "outputId": "db3555e6-b5da-4985-9726-a4700d402291"
      },
      "execution_count": 6,
      "outputs": [
        {
          "output_type": "stream",
          "name": "stdout",
          "text": [
            "root\n",
            " |-- val0: double (nullable = true)\n",
            " |-- val1: double (nullable = true)\n",
            " |-- val2: double (nullable = true)\n",
            " |-- val3: double (nullable = true)\n",
            " |-- val4: double (nullable = true)\n",
            " |-- val5: double (nullable = true)\n",
            " |-- val6: double (nullable = true)\n",
            " |-- val7: double (nullable = true)\n",
            " |-- val8: double (nullable = true)\n",
            " |-- val9: double (nullable = true)\n",
            " |-- val10: double (nullable = true)\n",
            " |-- val11: double (nullable = true)\n",
            " |-- val12: double (nullable = true)\n",
            " |-- val13: double (nullable = true)\n",
            " |-- val14: double (nullable = true)\n",
            " |-- val15: double (nullable = true)\n",
            " |-- val16: double (nullable = true)\n",
            " |-- val17: double (nullable = true)\n",
            " |-- val18: double (nullable = true)\n",
            " |-- val19: double (nullable = true)\n",
            " |-- val20: double (nullable = true)\n",
            " |-- val21: double (nullable = true)\n",
            " |-- val22: double (nullable = true)\n",
            " |-- val23: double (nullable = true)\n",
            " |-- val24: double (nullable = true)\n",
            " |-- val25: double (nullable = true)\n",
            " |-- val26: double (nullable = true)\n",
            " |-- val27: double (nullable = true)\n",
            " |-- val28: double (nullable = true)\n",
            " |-- val29: double (nullable = true)\n",
            " |-- val30: double (nullable = true)\n",
            " |-- val31: double (nullable = true)\n",
            " |-- val32: double (nullable = true)\n",
            " |-- val33: double (nullable = true)\n",
            " |-- val34: double (nullable = true)\n",
            " |-- val35: double (nullable = true)\n",
            " |-- val36: double (nullable = true)\n",
            " |-- val37: double (nullable = true)\n",
            " |-- val38: double (nullable = true)\n",
            " |-- val39: double (nullable = true)\n",
            " |-- val40: double (nullable = true)\n",
            " |-- val41: double (nullable = true)\n",
            " |-- val42: double (nullable = true)\n",
            " |-- val43: double (nullable = true)\n",
            " |-- val44: double (nullable = true)\n",
            " |-- val45: double (nullable = true)\n",
            " |-- val46: double (nullable = true)\n",
            " |-- val47: double (nullable = true)\n",
            " |-- val48: double (nullable = true)\n",
            " |-- val49: double (nullable = true)\n",
            " |-- val50: double (nullable = true)\n",
            " |-- val51: double (nullable = true)\n",
            " |-- val52: double (nullable = true)\n",
            " |-- val53: double (nullable = true)\n",
            " |-- val54: double (nullable = true)\n",
            " |-- val55: double (nullable = true)\n",
            " |-- val56: double (nullable = true)\n",
            " |-- label: double (nullable = true)\n",
            "\n"
          ]
        }
      ]
    },
    {
      "cell_type": "code",
      "source": [
        "spamDF.groupBy(\"label\").count().show()"
      ],
      "metadata": {
        "colab": {
          "base_uri": "https://localhost:8080/"
        },
        "id": "bj__itI6XkxO",
        "outputId": "8f6aed14-f28c-4524-b54d-bba552e85d7c"
      },
      "execution_count": 7,
      "outputs": [
        {
          "output_type": "stream",
          "name": "stdout",
          "text": [
            "+-----+-----+\n",
            "|label|count|\n",
            "+-----+-----+\n",
            "|  0.0| 2788|\n",
            "|  1.0| 1813|\n",
            "+-----+-----+\n",
            "\n"
          ]
        }
      ]
    },
    {
      "cell_type": "code",
      "source": [
        "spamEch1 = spamDF.select(\"val0\", \"val1\", \"label\").sample(False, 0.5)\n",
        "print(spamEch1.count())\n",
        "spamEch2 = spamDF.select(\"val0\", \"val1\", \"label\").sample(False, 0.1)\n",
        "print(spamEch2.count())"
      ],
      "metadata": {
        "colab": {
          "base_uri": "https://localhost:8080/"
        },
        "id": "m320gxqoXr-F",
        "outputId": "cb4f57f5-a2d0-48b2-a5bb-a2a1b1f1304a"
      },
      "execution_count": 8,
      "outputs": [
        {
          "output_type": "stream",
          "name": "stdout",
          "text": [
            "2261\n",
            "424\n"
          ]
        }
      ]
    },
    {
      "cell_type": "code",
      "source": [
        "fractions = {0.0: 0.5, 1.0: 0.5}    # dictionnaire\n",
        "spamEchStratifie = spamDF.select(\"val0\", \"val1\", \"label\").stat.sampleBy(\"label\", fractions, 1)\n",
        "spamEchStratifie.groupBy(\"label\").count().show()"
      ],
      "metadata": {
        "colab": {
          "base_uri": "https://localhost:8080/"
        },
        "id": "Ft_6w-GlYnRv",
        "outputId": "f8fdac01-3f53-4178-c900-34bfdb8df28b"
      },
      "execution_count": 9,
      "outputs": [
        {
          "output_type": "stream",
          "name": "stdout",
          "text": [
            "+-----+-----+\n",
            "|label|count|\n",
            "+-----+-----+\n",
            "|  0.0| 1384|\n",
            "|  1.0|  907|\n",
            "+-----+-----+\n",
            "\n"
          ]
        }
      ]
    },
    {
      "cell_type": "code",
      "source": [
        "from pyspark.ml.linalg import Vectors\n",
        "from pyspark.ml.feature import VectorAssembler\n",
        "\n",
        "colsEntree = [\"val\"+str(i) for i in range(0, 57)]\n",
        "assembleur = VectorAssembler().setInputCols(colsEntree).setOutputCol(\"features\")\n",
        "spamDFA = assembleur.transform(spamDF)\n",
        "spamDFA.printSchema()\n",
        "spamDFA.select(\"features\").show(3)\n"
      ],
      "metadata": {
        "colab": {
          "base_uri": "https://localhost:8080/"
        },
        "id": "Lj-TO1dagyYv",
        "outputId": "f4e7efe5-19ff-407a-c238-6524f7416099"
      },
      "execution_count": 10,
      "outputs": [
        {
          "output_type": "stream",
          "name": "stdout",
          "text": [
            "root\n",
            " |-- val0: double (nullable = true)\n",
            " |-- val1: double (nullable = true)\n",
            " |-- val2: double (nullable = true)\n",
            " |-- val3: double (nullable = true)\n",
            " |-- val4: double (nullable = true)\n",
            " |-- val5: double (nullable = true)\n",
            " |-- val6: double (nullable = true)\n",
            " |-- val7: double (nullable = true)\n",
            " |-- val8: double (nullable = true)\n",
            " |-- val9: double (nullable = true)\n",
            " |-- val10: double (nullable = true)\n",
            " |-- val11: double (nullable = true)\n",
            " |-- val12: double (nullable = true)\n",
            " |-- val13: double (nullable = true)\n",
            " |-- val14: double (nullable = true)\n",
            " |-- val15: double (nullable = true)\n",
            " |-- val16: double (nullable = true)\n",
            " |-- val17: double (nullable = true)\n",
            " |-- val18: double (nullable = true)\n",
            " |-- val19: double (nullable = true)\n",
            " |-- val20: double (nullable = true)\n",
            " |-- val21: double (nullable = true)\n",
            " |-- val22: double (nullable = true)\n",
            " |-- val23: double (nullable = true)\n",
            " |-- val24: double (nullable = true)\n",
            " |-- val25: double (nullable = true)\n",
            " |-- val26: double (nullable = true)\n",
            " |-- val27: double (nullable = true)\n",
            " |-- val28: double (nullable = true)\n",
            " |-- val29: double (nullable = true)\n",
            " |-- val30: double (nullable = true)\n",
            " |-- val31: double (nullable = true)\n",
            " |-- val32: double (nullable = true)\n",
            " |-- val33: double (nullable = true)\n",
            " |-- val34: double (nullable = true)\n",
            " |-- val35: double (nullable = true)\n",
            " |-- val36: double (nullable = true)\n",
            " |-- val37: double (nullable = true)\n",
            " |-- val38: double (nullable = true)\n",
            " |-- val39: double (nullable = true)\n",
            " |-- val40: double (nullable = true)\n",
            " |-- val41: double (nullable = true)\n",
            " |-- val42: double (nullable = true)\n",
            " |-- val43: double (nullable = true)\n",
            " |-- val44: double (nullable = true)\n",
            " |-- val45: double (nullable = true)\n",
            " |-- val46: double (nullable = true)\n",
            " |-- val47: double (nullable = true)\n",
            " |-- val48: double (nullable = true)\n",
            " |-- val49: double (nullable = true)\n",
            " |-- val50: double (nullable = true)\n",
            " |-- val51: double (nullable = true)\n",
            " |-- val52: double (nullable = true)\n",
            " |-- val53: double (nullable = true)\n",
            " |-- val54: double (nullable = true)\n",
            " |-- val55: double (nullable = true)\n",
            " |-- val56: double (nullable = true)\n",
            " |-- label: double (nullable = true)\n",
            " |-- features: vector (nullable = true)\n",
            "\n",
            "+--------------------+\n",
            "|            features|\n",
            "+--------------------+\n",
            "|(57,[1,2,4,11,15,...|\n",
            "|(57,[0,1,2,4,5,6,...|\n",
            "|(57,[0,2,4,5,6,7,...|\n",
            "+--------------------+\n",
            "only showing top 3 rows\n",
            "\n"
          ]
        }
      ]
    },
    {
      "cell_type": "code",
      "source": [
        "from pyspark.ml.feature import PCA\n",
        "pcaModel = PCA(k=3, inputCol=\"features\", outputCol=\"pcaFeatures\").fit(spamDFA)\n",
        "resultat = pcaModel.transform(spamDFA)\n",
        "print(pcaModel.explainedVariance)\n",
        "print(pcaModel.pc)"
      ],
      "metadata": {
        "colab": {
          "base_uri": "https://localhost:8080/"
        },
        "id": "pEn0xsRPicst",
        "outputId": "e67c3449-6e24-44e1-a5a3-497e23b53130"
      },
      "execution_count": 19,
      "outputs": [
        {
          "output_type": "stream",
          "name": "stdout",
          "text": [
            "[0.9270270117088842,0.0710429729803354,0.0018437247693527724]\n",
            "DenseMatrix([[-4.47943057e-05,  3.19661832e-05, -2.51728349e-04],\n",
            "             [ 4.64073749e-05,  1.03193947e-04,  1.75148807e-05],\n",
            "             [-6.07026243e-05,  2.42356921e-04, -9.60140867e-04],\n",
            "             [-4.99124584e-05,  1.02410723e-04,  2.81149957e-04],\n",
            "             [-5.66182598e-06,  2.30761699e-04, -6.83215305e-04],\n",
            "             [-3.77491113e-05,  8.61037980e-05,  5.97570275e-04],\n",
            "             [ 3.19313960e-06,  1.67633961e-04, -1.29369649e-04],\n",
            "             [-2.68921661e-05,  4.48294221e-05,  9.17711734e-05],\n",
            "             [-1.14431923e-04,  1.14282957e-04, -3.74300312e-04],\n",
            "             [-9.49479917e-05,  2.52677623e-04, -6.92213454e-04],\n",
            "             [-3.82750630e-05,  3.68026096e-05,  6.02149095e-05],\n",
            "             [-2.90277874e-05,  6.40484922e-05,  7.26895908e-04],\n",
            "             [-5.12866156e-05, -2.54770554e-05,  3.30931630e-04],\n",
            "             [-9.17404205e-05, -5.94119723e-05,  1.93296438e-04],\n",
            "             [-6.69569738e-05,  2.32632304e-04,  9.31621232e-04],\n",
            "             [-5.80240960e-06,  1.37870809e-04, -2.47328011e-05],\n",
            "             [-4.76408967e-05,  8.80167139e-05, -1.87341749e-04],\n",
            "             [-4.24407383e-05,  1.79372853e-04,  1.00208630e-03],\n",
            "             [ 1.96457992e-05,  1.16166708e-04,  2.62330612e-03],\n",
            "             [-6.55821095e-05,  2.06645821e-04, -4.27704928e-04],\n",
            "             [-1.07387850e-04,  4.70072298e-04,  4.09514960e-05],\n",
            "             [-1.71608301e-04, -1.75549421e-04, -7.17833984e-04],\n",
            "             [-9.58902045e-05,  8.60783793e-05,  6.32798378e-04],\n",
            "             [-5.85623327e-05,  8.73780069e-06,  1.67523128e-04],\n",
            "             [ 1.21995893e-04, -3.21501734e-04, -4.68859496e-04],\n",
            "             [ 8.77766868e-05, -1.24939696e-04,  6.02903883e-05],\n",
            "             [ 5.31383955e-04, -1.04999408e-04,  7.42127958e-04],\n",
            "             [ 5.95326240e-05, -1.39883414e-05, -1.97535669e-05],\n",
            "             [ 5.50578275e-05, -2.19599184e-05,  3.61571760e-05],\n",
            "             [ 4.79684322e-05, -1.81453409e-05,  2.87924992e-05],\n",
            "             [ 3.03314319e-05, -1.01443962e-05,  5.92531226e-06],\n",
            "             [ 2.51679065e-05, -7.87768511e-06, -1.60114648e-06],\n",
            "             [-4.87736071e-06, -1.09555899e-04,  1.22359748e-05],\n",
            "             [ 2.39592620e-05, -3.22044024e-06, -9.26587645e-05],\n",
            "             [ 4.01818244e-05, -2.32872505e-05,  3.64692396e-05],\n",
            "             [ 3.05551556e-05, -3.90530146e-05,  4.66146332e-05],\n",
            "             [ 3.53856011e-06, -8.87034811e-05, -6.32500355e-05],\n",
            "             [ 5.04317027e-06, -3.46256931e-06,  2.01310163e-05],\n",
            "             [ 3.50487385e-05, -1.12073526e-05,  5.21027039e-05],\n",
            "             [ 1.61364440e-05,  2.32955602e-05,  6.12469138e-05],\n",
            "             [ 1.58391819e-05, -2.42052677e-05, -2.30396006e-05],\n",
            "             [ 7.10070122e-05, -2.81552635e-05,  1.44694763e-04],\n",
            "             [ 1.33014529e-05,  2.08278212e-06,  1.11336504e-04],\n",
            "             [ 4.14946009e-05, -2.07108262e-05,  7.67646848e-05],\n",
            "             [ 1.57658623e-04, -1.84728212e-05,  3.39417103e-04],\n",
            "             [ 6.96164426e-05, -5.78008409e-05,  1.40429486e-04],\n",
            "             [-5.58281761e-07, -6.53294206e-06,  1.13942913e-06],\n",
            "             [ 4.95859004e-06, -2.23646212e-05, -2.36441891e-06],\n",
            "             [-2.22025048e-05,  1.96847021e-05,  1.38666897e-04],\n",
            "             [-5.66197658e-05,  5.61300610e-04,  1.80969966e-03],\n",
            "             [-9.13922528e-07, -1.24950885e-05, -6.60038454e-07],\n",
            "             [-5.23786441e-05,  3.20870290e-04, -5.25561979e-04],\n",
            "             [-8.26064255e-05,  1.29691722e-04,  7.83665732e-06],\n",
            "             [-3.12400471e-05,  1.13187457e-04,  2.93500973e-04],\n",
            "             [-9.51836857e-03,  8.89916664e-02, -9.95978142e-01],\n",
            "             [-1.63583710e-01,  9.82474419e-01,  8.93458691e-02],\n",
            "             [-9.86483291e-01, -1.63777913e-01, -5.20534549e-03]])\n"
          ]
        }
      ]
    },
    {
      "cell_type": "code",
      "source": [
        "from pyspark.ml.feature import StandardScaler\n",
        "scaler = StandardScaler(inputCol=\"features\", outputCol=\"scaledFeatures\",withStd=True, withMean=True)\n",
        "scalerModel = scaler.fit(spamDFA)\n",
        "scaledSpamDF = scalerModel.transform(spamDFA)\n",
        "scaledSpamDF.printSchema()\n"
      ],
      "metadata": {
        "colab": {
          "base_uri": "https://localhost:8080/"
        },
        "id": "w5yA0AVWlBhi",
        "outputId": "c45f614a-27ec-47ab-8371-1f553964a343"
      },
      "execution_count": 20,
      "outputs": [
        {
          "output_type": "stream",
          "name": "stdout",
          "text": [
            "root\n",
            " |-- val0: double (nullable = true)\n",
            " |-- val1: double (nullable = true)\n",
            " |-- val2: double (nullable = true)\n",
            " |-- val3: double (nullable = true)\n",
            " |-- val4: double (nullable = true)\n",
            " |-- val5: double (nullable = true)\n",
            " |-- val6: double (nullable = true)\n",
            " |-- val7: double (nullable = true)\n",
            " |-- val8: double (nullable = true)\n",
            " |-- val9: double (nullable = true)\n",
            " |-- val10: double (nullable = true)\n",
            " |-- val11: double (nullable = true)\n",
            " |-- val12: double (nullable = true)\n",
            " |-- val13: double (nullable = true)\n",
            " |-- val14: double (nullable = true)\n",
            " |-- val15: double (nullable = true)\n",
            " |-- val16: double (nullable = true)\n",
            " |-- val17: double (nullable = true)\n",
            " |-- val18: double (nullable = true)\n",
            " |-- val19: double (nullable = true)\n",
            " |-- val20: double (nullable = true)\n",
            " |-- val21: double (nullable = true)\n",
            " |-- val22: double (nullable = true)\n",
            " |-- val23: double (nullable = true)\n",
            " |-- val24: double (nullable = true)\n",
            " |-- val25: double (nullable = true)\n",
            " |-- val26: double (nullable = true)\n",
            " |-- val27: double (nullable = true)\n",
            " |-- val28: double (nullable = true)\n",
            " |-- val29: double (nullable = true)\n",
            " |-- val30: double (nullable = true)\n",
            " |-- val31: double (nullable = true)\n",
            " |-- val32: double (nullable = true)\n",
            " |-- val33: double (nullable = true)\n",
            " |-- val34: double (nullable = true)\n",
            " |-- val35: double (nullable = true)\n",
            " |-- val36: double (nullable = true)\n",
            " |-- val37: double (nullable = true)\n",
            " |-- val38: double (nullable = true)\n",
            " |-- val39: double (nullable = true)\n",
            " |-- val40: double (nullable = true)\n",
            " |-- val41: double (nullable = true)\n",
            " |-- val42: double (nullable = true)\n",
            " |-- val43: double (nullable = true)\n",
            " |-- val44: double (nullable = true)\n",
            " |-- val45: double (nullable = true)\n",
            " |-- val46: double (nullable = true)\n",
            " |-- val47: double (nullable = true)\n",
            " |-- val48: double (nullable = true)\n",
            " |-- val49: double (nullable = true)\n",
            " |-- val50: double (nullable = true)\n",
            " |-- val51: double (nullable = true)\n",
            " |-- val52: double (nullable = true)\n",
            " |-- val53: double (nullable = true)\n",
            " |-- val54: double (nullable = true)\n",
            " |-- val55: double (nullable = true)\n",
            " |-- val56: double (nullable = true)\n",
            " |-- label: double (nullable = true)\n",
            " |-- features: vector (nullable = true)\n",
            " |-- scaledFeatures: vector (nullable = true)\n",
            "\n"
          ]
        }
      ]
    },
    {
      "cell_type": "markdown",
      "source": [
        "Devoir"
      ],
      "metadata": {
        "id": "F5pxtGWAprwA"
      }
    },
    {
      "cell_type": "markdown",
      "source": [
        "1-\tAppliquez l’ACP sur le DataFrame scaledSpamDF et mettez les projections des données sur les trois premiers axes principaux dans un DataFrame resultatCR. Examinez les trois plus grandes valeurs propres et comparez-les à celles obtenues précédemment. Que constatez-vous ?\n"
      ],
      "metadata": {
        "id": "6cKtTkhFptn5"
      }
    },
    {
      "cell_type": "code",
      "source": [
        "pcaCR = PCA(k=3, inputCol=\"scaledFeatures\", outputCol=\"pcaCRFeatures\").fit(scaledSpamDF)\n",
        "resultatCR = pcaCR.transform(scaledSpamDF).select(\"pcaCRFeatures\")\n",
        "\n",
        "print(pcaCR.explainedVariance)\n",
        "print(pcaModel.explainedVariance)\n",
        "\n"
      ],
      "metadata": {
        "colab": {
          "base_uri": "https://localhost:8080/"
        },
        "id": "bxfkt9mhlm5T",
        "outputId": "6fd42bc1-fc40-4a7c-c574-dc6369c587a8"
      },
      "execution_count": 23,
      "outputs": [
        {
          "output_type": "stream",
          "name": "stdout",
          "text": [
            "[0.11564793812358597,0.05732324314509041,0.035143016244656634]\n",
            "[0.9270270117088842,0.0710429729803354,0.0018437247693527724]\n"
          ]
        }
      ]
    },
    {
      "cell_type": "markdown",
      "source": [
        "Dans les données centrées et réduites, les trois plus grandes valeurs propres sont plus proches les unes des autres qu'avec les données simplement centrées. Cela reflète les différences importantes de variances initiales entre les variables avant la standardisation.\n"
      ],
      "metadata": {
        "id": "07NjL9F6sQoC"
      }
    },
    {
      "cell_type": "markdown",
      "source": [
        "2-\tAppliquez l’ACP non normée sur un échantillon (appelé spamEch3) de 10% du DataFrame spamDF obtenu par échantillonnage simple et mettez les projections des données sur les trois premiers axes principaux dans un DataFrame resultatEch3. Examinez les trois plus grandes valeurs propres et comparez-les à celles obtenues dans l’ACP non normée de spamDF. Que constatez-vous ?\n",
        "\n"
      ],
      "metadata": {
        "id": "UbIdGraCsboj"
      }
    },
    {
      "cell_type": "code",
      "source": [
        "spamEch3 = spamDFA.sample(False, 0.1)\n",
        "pcaEch3 =  PCA(k=3, inputCol=\"features\", outputCol=\"pcaFeatures\").fit(spamEch3)\n",
        "resultatEch3 = pcaEch3.transform(spamEch3).select(\"pcaFeatures\")\n",
        "print(pcaEch3.explainedVariance)"
      ],
      "metadata": {
        "colab": {
          "base_uri": "https://localhost:8080/"
        },
        "id": "p-cOof5oshkm",
        "outputId": "e67ec05a-08bb-42c9-8d44-1c778e5e44f6"
      },
      "execution_count": 26,
      "outputs": [
        {
          "output_type": "stream",
          "name": "stdout",
          "text": [
            "[0.9572287336282095,0.04180831087602708,0.0008484213921503486]\n"
          ]
        }
      ]
    },
    {
      "cell_type": "markdown",
      "source": [
        "Les valeurs propres calculées à partir d'un échantillon d'environ 10% diffèrent logiquement de celles obtenues sur l'ensemble des données.\n",
        "\n",
        "\n",
        "\n",
        "\n"
      ],
      "metadata": {
        "id": "zN6Bhu94tQcB"
      }
    },
    {
      "cell_type": "markdown",
      "source": [
        "3-\tappliquer l’ACP sur des données tridimensionnelles obtenues par tirage aléatoire suivant une loi normale isotrope :\n",
        "\n"
      ],
      "metadata": {
        "id": "BXQrHGaqttkP"
      }
    },
    {
      "cell_type": "code",
      "source": [
        "from pyspark.sql.functions import randn\n",
        "from pyspark.ml.feature import PCA\n",
        "\n",
        "idsDF = spark.range(4601)\n",
        "idsDF.show(5)\n",
        "\n",
        "randnDF = idsDF.select(\"id\", randn(seed=1).alias(\"normale0\"),randn(seed=2).alias(\"normale1\"),randn(seed=3).alias(\"normale2\"))\n",
        "\n",
        "randnDF.describe().show()\n",
        "\n",
        "#A continuer\n",
        "# Vecteur\n",
        "colsEntreeRnd = [\"normale\"+str(i) for i in range(0, 3)]\n",
        "assembleurRnd = VectorAssembler().setInputCols(colsEntreeRnd).setOutputCol(\"features\")\n",
        "\n",
        "# Dataframe\n",
        "randnDF2 = assembleurRnd.transform(randnDF)\n",
        "randnDF2.printSchema()\n",
        "\n",
        "# ACP\n",
        "pcaRnd = PCA(k=3, inputCol=\"features\", outputCol=\"pcaRndFeatures\").fit(randnDF2)\n",
        "resRnd = pcaRnd.transform(randnDF2).select(\"pcaRndFeatures\")\n",
        "pcaRnd.explainedVariance"
      ],
      "metadata": {
        "colab": {
          "base_uri": "https://localhost:8080/"
        },
        "id": "oCT0Tn1zt4L_",
        "outputId": "754be3ef-a67d-4d3d-a3e8-d350bb72fa76"
      },
      "execution_count": 25,
      "outputs": [
        {
          "output_type": "stream",
          "name": "stdout",
          "text": [
            "+---+\n",
            "| id|\n",
            "+---+\n",
            "|  0|\n",
            "|  1|\n",
            "|  2|\n",
            "|  3|\n",
            "|  4|\n",
            "+---+\n",
            "only showing top 5 rows\n",
            "\n",
            "+-------+------------------+--------------------+--------------------+-------------------+\n",
            "|summary|                id|            normale0|            normale1|           normale2|\n",
            "+-------+------------------+--------------------+--------------------+-------------------+\n",
            "|  count|              4601|                4601|                4601|               4601|\n",
            "|   mean|            2300.0|-0.00700368903639...|0.004435365125399705| 0.0120495882028871|\n",
            "| stddev|1328.3386239961555|  1.0012930374887674|  0.9866736787327006| 0.9851417211661581|\n",
            "|    min|                 0|  -4.020755311197189|  -4.020755311197189|-3.3261595147017684|\n",
            "|    max|              4600|   3.956664230398238|   3.956664230398238| 3.0583454168633044|\n",
            "+-------+------------------+--------------------+--------------------+-------------------+\n",
            "\n",
            "root\n",
            " |-- id: long (nullable = false)\n",
            " |-- normale0: double (nullable = false)\n",
            " |-- normale1: double (nullable = false)\n",
            " |-- normale2: double (nullable = false)\n",
            " |-- features: vector (nullable = true)\n",
            "\n"
          ]
        },
        {
          "output_type": "execute_result",
          "data": {
            "text/plain": [
              "DenseVector([0.3428, 0.3338, 0.3234])"
            ]
          },
          "metadata": {},
          "execution_count": 25
        }
      ]
    },
    {
      "cell_type": "markdown",
      "source": [
        "VP presque égales"
      ],
      "metadata": {
        "id": "VnXRfinqv10E"
      }
    }
  ]
}