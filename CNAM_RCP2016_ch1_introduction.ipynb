{
  "cells": [
    {
      "cell_type": "markdown",
      "metadata": {
        "id": "view-in-github",
        "colab_type": "text"
      },
      "source": [
        "<a href=\"https://colab.research.google.com/github/Mimitabf/CNAM-RCP216/blob/main/CNAM_RCP2016_ch1_introduction.ipynb\" target=\"_parent\"><img src=\"https://colab.research.google.com/assets/colab-badge.svg\" alt=\"Open In Colab\"/></a>"
      ]
    },
    {
      "cell_type": "markdown",
      "metadata": {
        "id": "TKyh4mC23-ez"
      },
      "source": [
        "# affectation-typage automatique\n"
      ]
    },
    {
      "cell_type": "code",
      "execution_count": 1,
      "metadata": {
        "colab": {
          "base_uri": "https://localhost:8080/"
        },
        "id": "aBGf-lnQ4ENP",
        "outputId": "bb333d6a-485f-4f55-f08f-74418f93859b"
      },
      "outputs": [
        {
          "output_type": "execute_result",
          "data": {
            "text/plain": [
              "float"
            ]
          },
          "metadata": {},
          "execution_count": 1
        }
      ],
      "source": [
        "a=1.2\n",
        "type(a)\n"
      ]
    },
    {
      "cell_type": "code",
      "execution_count": 8,
      "metadata": {
        "colab": {
          "base_uri": "https://localhost:8080/"
        },
        "id": "bCb3io4c4URb",
        "outputId": "fae0c3f6-ac4f-47b2-c56f-1d172785d334"
      },
      "outputs": [
        {
          "output_type": "execute_result",
          "data": {
            "text/plain": [
              "float"
            ]
          },
          "metadata": {},
          "execution_count": 8
        }
      ],
      "source": [
        "b=float(1)\n",
        "type(b)"
      ]
    },
    {
      "cell_type": "code",
      "execution_count": 11,
      "metadata": {
        "colab": {
          "base_uri": "https://localhost:8080/"
        },
        "id": "3MWSlQFV5RNH",
        "outputId": "6ddd5b60-4974-49cf-b1d4-49b6a0ee8f12"
      },
      "outputs": [
        {
          "output_type": "execute_result",
          "data": {
            "text/plain": [
              "str"
            ]
          },
          "metadata": {},
          "execution_count": 11
        }
      ],
      "source": [
        "a='12'\n",
        "b=float(a)\n",
        "c=str(12)\n",
        "type(b)\n",
        "type(c)"
      ]
    },
    {
      "cell_type": "code",
      "execution_count": 12,
      "metadata": {
        "colab": {
          "base_uri": "https://localhost:8080/"
        },
        "id": "Z8cDNeUi7zWQ",
        "outputId": "678a2cb5-8542-492a-bef2-c8b07c250b2e"
      },
      "outputs": [
        {
          "output_type": "stream",
          "name": "stdout",
          "text": [
            "70 12\n"
          ]
        }
      ],
      "source": [
        "a=12\n",
        "b=58\n",
        "c=a+b    # on peut faire des calculs sur *, +, -, /, %\n",
        "print(c,a)\n",
        "# # sont des commentaires. Elles ne sont pas interprétées par Python mais\n",
        "# servent à expliquer ou documenter le code."
      ]
    },
    {
      "cell_type": "code",
      "source": [
        "a=10\n",
        "b=3\n",
        "c=a//b\n",
        "print('la valeur de ces trois variables est',a,b,c)"
      ],
      "metadata": {
        "colab": {
          "base_uri": "https://localhost:8080/"
        },
        "id": "rynXkREz9CcD",
        "outputId": "736923bd-6d81-496b-eb85-c83999eeb88a"
      },
      "execution_count": 15,
      "outputs": [
        {
          "output_type": "stream",
          "name": "stdout",
          "text": [
            "la valeur de ces trois variables est 10 3 3\n"
          ]
        }
      ]
    },
    {
      "cell_type": "code",
      "execution_count": 13,
      "metadata": {
        "colab": {
          "base_uri": "https://localhost:8080/"
        },
        "id": "jY30EXg186n0",
        "outputId": "1ec8eec2-0b2a-4611-92d2-86f0c112c8fb"
      },
      "outputs": [
        {
          "output_type": "stream",
          "name": "stdout",
          "text": [
            "x vaut cent quarante n\n",
            "La variable x vaut cent quarante n\n"
          ]
        }
      ],
      "source": [
        "#Il est possible d’injecter le contenu d’une variable dans une chaîne de caractères\n",
        "#en utilisant la fonction format\n",
        "x='cent quarante n'\n",
        "message = \"x vaut {}\".format(x)\n",
        "print(message)\n",
        "message = f\"La variable x vaut {x}\" # le format court\n",
        "print(message)"
      ]
    },
    {
      "cell_type": "code",
      "execution_count": 16,
      "metadata": {
        "id": "rsQAYTww-A55",
        "colab": {
          "base_uri": "https://localhost:8080/"
        },
        "outputId": "162ed0d0-e6ce-4f49-d991-f6869efef2d8"
      },
      "outputs": [
        {
          "output_type": "stream",
          "name": "stdout",
          "text": [
            "(8, 9)\n",
            "('3', '4')\n"
          ]
        }
      ],
      "source": [
        "t = (8,9)\n",
        "print(t)\n",
        "# il est possible de donner le même nom de variable à une nouvelle donnée,\n",
        "t = (\"3\",\"4\")\n",
        "print(t)"
      ]
    },
    {
      "cell_type": "markdown",
      "metadata": {
        "id": "6w_5qUKMEPcW"
      },
      "source": [
        "# collection_liste"
      ]
    },
    {
      "cell_type": "code",
      "execution_count": 27,
      "metadata": {
        "colab": {
          "base_uri": "https://localhost:8080/",
          "height": 228
        },
        "id": "JA_uYnHZCtPv",
        "outputId": "0e5cedad-17d1-4db1-878c-e031ff7dbf68"
      },
      "outputs": [
        {
          "output_type": "stream",
          "name": "stdout",
          "text": [
            "[1, 3.14, 'pi']\n",
            "1\n",
            "pi\n"
          ]
        },
        {
          "output_type": "error",
          "ename": "IndexError",
          "evalue": "list index out of range",
          "traceback": [
            "\u001b[0;31m---------------------------------------------------------------------------\u001b[0m",
            "\u001b[0;31mIndexError\u001b[0m                                Traceback (most recent call last)",
            "\u001b[0;32m<ipython-input-27-370d66168bba>\u001b[0m in \u001b[0;36m<cell line: 7>\u001b[0;34m()\u001b[0m\n\u001b[1;32m      5\u001b[0m \u001b[0mprint\u001b[0m\u001b[0;34m(\u001b[0m\u001b[0mliste\u001b[0m\u001b[0;34m[\u001b[0m\u001b[0;36m2\u001b[0m\u001b[0;34m]\u001b[0m\u001b[0;34m)\u001b[0m\u001b[0;34m\u001b[0m\u001b[0;34m\u001b[0m\u001b[0m\n\u001b[1;32m      6\u001b[0m \u001b[0;31m# 'pi'\u001b[0m\u001b[0;34m\u001b[0m\u001b[0;34m\u001b[0m\u001b[0m\n\u001b[0;32m----> 7\u001b[0;31m \u001b[0mprint\u001b[0m\u001b[0;34m(\u001b[0m\u001b[0mliste\u001b[0m\u001b[0;34m[\u001b[0m\u001b[0;36m3\u001b[0m\u001b[0;34m]\u001b[0m\u001b[0;34m)\u001b[0m\u001b[0;34m\u001b[0m\u001b[0;34m\u001b[0m\u001b[0m\n\u001b[0m",
            "\u001b[0;31mIndexError\u001b[0m: list index out of range"
          ]
        }
      ],
      "source": [
        "liste = [1, 3.14, 'pi']\n",
        "print(liste)\n",
        "print(liste[0])\n",
        "# 1\n",
        "print(liste[2])\n",
        "# 'pi'\n",
        "print(liste[3])"
      ]
    },
    {
      "cell_type": "code",
      "execution_count": 19,
      "metadata": {
        "colab": {
          "base_uri": "https://localhost:8080/"
        },
        "id": "OQa9I1cdDNrr",
        "outputId": "ec936034-dbc8-46dd-f197-a7dc6d7faa81"
      },
      "outputs": [
        {
          "output_type": "stream",
          "name": "stdout",
          "text": [
            "pi\n",
            "3.14\n"
          ]
        }
      ],
      "source": [
        "print(liste[-1])\n",
        "# 'pi'\n",
        "print(liste[-2])\n",
        "# 3.14"
      ]
    },
    {
      "cell_type": "code",
      "execution_count": 20,
      "metadata": {
        "id": "i4Iu0qmRDTIr",
        "colab": {
          "base_uri": "https://localhost:8080/"
        },
        "outputId": "ff831ff4-00fc-4e04-ef83-2231f53d0d98"
      },
      "outputs": [
        {
          "output_type": "stream",
          "name": "stdout",
          "text": [
            "[1]\n",
            "[1, 3.14]\n",
            "[1, 3.14]\n",
            "[1, 3.14, 'pi']\n",
            "[1, 3.14, 'pi']\n",
            "[3.14, 'pi']\n"
          ]
        }
      ],
      "source": [
        "liste = [1, 3.14, 'pi']\n",
        "print(liste[:1]) # Extrait la sous-liste de tous les éléments jusqu'à 1 (exclu)\n",
        "# [1]\n",
        "print(liste[:2]) # Extrait la sous-liste de tous les éléments jusqu'à 2 (exclu)\n",
        "# [1, 3.14]\n",
        "\n",
        "print(liste[:-1]) # Extrait la sous-liste jusqu'au dernier élément (exclu)\n",
        "# [1, 3.14]\n",
        "print(liste[:3])\n",
        "# [1, 3.14, 'pi']\n",
        "print(liste[0:]) # Extrait la sous-liste à partir du premier élément (inclus)\n",
        "# [1, 3.14, 'pi']\n",
        "print(liste[1:]) # Extrait la sous-liste à partir du deuxième élément (inclus)\n",
        "# [3.14, 'pi']"
      ]
    },
    {
      "cell_type": "code",
      "execution_count": 29,
      "metadata": {
        "id": "F9ID4HU6DTpx",
        "colab": {
          "base_uri": "https://localhost:8080/"
        },
        "outputId": "b98765dc-38fe-44c5-9af9-45d1eb217f1c"
      },
      "outputs": [
        {
          "output_type": "stream",
          "name": "stdout",
          "text": [
            "[1, 3.14, 'pi', 1, 3.14, 'pi']\n",
            "None\n"
          ]
        },
        {
          "output_type": "execute_result",
          "data": {
            "text/plain": [
              "3"
            ]
          },
          "metadata": {},
          "execution_count": 29
        }
      ],
      "source": [
        "liste2=print(liste + liste)\n",
        "print(liste2)\n",
        "len(liste)"
      ]
    },
    {
      "cell_type": "code",
      "source": [
        "liste.append(5)\n",
        "\n",
        "liste.insert(0,2)\n",
        "\n",
        "liste.remove(5)\n",
        "\n",
        "liste.pop(0)\n"
      ],
      "metadata": {
        "colab": {
          "base_uri": "https://localhost:8080/"
        },
        "id": "VpHyZqfV__T-",
        "outputId": "e79ebc68-5cca-44b6-8774-2f0b49a52297"
      },
      "execution_count": 36,
      "outputs": [
        {
          "output_type": "execute_result",
          "data": {
            "text/plain": [
              "2"
            ]
          },
          "metadata": {},
          "execution_count": 36
        }
      ]
    },
    {
      "cell_type": "code",
      "execution_count": 37,
      "metadata": {
        "id": "mQMjanThDodW",
        "colab": {
          "base_uri": "https://localhost:8080/"
        },
        "outputId": "59556969-9c36-42d9-8738-69b9d92a696e"
      },
      "outputs": [
        {
          "output_type": "stream",
          "name": "stdout",
          "text": [
            "1\n",
            "5.99\n"
          ]
        }
      ],
      "source": [
        "print(min([3, 10, 1, 5, 24]))\n",
        "print(max([1.24, -12.0, 5.99]))"
      ]
    },
    {
      "cell_type": "code",
      "execution_count": 38,
      "metadata": {
        "id": "oRApbGgLDukT",
        "colab": {
          "base_uri": "https://localhost:8080/"
        },
        "outputId": "0450213c-b572-4904-e6ff-607cef711dc0"
      },
      "outputs": [
        {
          "output_type": "stream",
          "name": "stdout",
          "text": [
            "[0, 3.14, 3.14, 3.14, 7, 9, 12]\n",
            "1\n"
          ]
        }
      ],
      "source": [
        "liste = [3.14, 12, 0, 3.14, 9, 3.14, 7]\n",
        "#liste.count(3.14)\n",
        "liste.sort() #rearrangement des valeur\n",
        "print(liste)\n",
        "# Avec copie\n",
        "#liste2 = sorted(liste)\n",
        "print(liste.index(3.14))\n",
        "#liste.reverse()\n",
        "#print(liste)"
      ]
    },
    {
      "cell_type": "markdown",
      "metadata": {
        "id": "soxQTDYIEMHV"
      },
      "source": [
        "# Devoir1\n",
        "Considérons une nouvelle liste :\n",
        "\n",
        "liste = [0, 2, 1, 9, 4, 5, 6, 8, 7, 3]\n",
        "Question\n",
        "\n",
        "En utilisant les fonctions vues ci-dessus, transformez liste pour obtenir les chiffres de 0 à 9 dans l’ordre décroissant\n",
        "\n"
      ]
    },
    {
      "cell_type": "code",
      "execution_count": 39,
      "metadata": {
        "id": "zep0R4U-JHnH",
        "colab": {
          "base_uri": "https://localhost:8080/"
        },
        "outputId": "95c2625b-d4f5-40ea-f80a-ed32c16f225d"
      },
      "outputs": [
        {
          "output_type": "execute_result",
          "data": {
            "text/plain": [
              "[9, 8, 7, 6, 5, 4, 3, 2, 1, 0]"
            ]
          },
          "metadata": {},
          "execution_count": 39
        }
      ],
      "source": [
        "liste = [0, 2, 1, 9, 4, 5, 6, 8, 7, 3]\n",
        "liste.sort()\n",
        "liste.reverse() # liste.sort(reverse=true)\n",
        "liste"
      ]
    },
    {
      "cell_type": "markdown",
      "metadata": {
        "id": "q6BCvmfjJIsP"
      },
      "source": [
        "# dictionnaires\n",
        "\n",
        "> Add blockquote\n",
        "\n"
      ]
    },
    {
      "cell_type": "code",
      "execution_count": 40,
      "metadata": {
        "id": "ARXYUQDgEeAF",
        "colab": {
          "base_uri": "https://localhost:8080/"
        },
        "outputId": "4ad973c2-d409-464c-b5dc-2054df8597f9"
      },
      "outputs": [
        {
          "output_type": "stream",
          "name": "stdout",
          "text": [
            "{'RCP208': 2016, 'RCP209': 2017, 'RCP216': 2017}\n",
            "2017\n"
          ]
        }
      ],
      "source": [
        "cours = { 'RCP208' : 2016, 'RCP209' : 2017, 'RCP216' : 2017 }\n",
        "print(cours)\n",
        "# {'RCP216': 2017, 'RCP208': 2016, 'RCP209': 2017}\n",
        "print(cours['RCP209'])"
      ]
    },
    {
      "cell_type": "code",
      "execution_count": 41,
      "metadata": {
        "id": "yyJmGpWLKRDt",
        "colab": {
          "base_uri": "https://localhost:8080/"
        },
        "outputId": "b9c38c65-a3f9-4ba7-c440-b9d6cbdf5b29"
      },
      "outputs": [
        {
          "output_type": "stream",
          "name": "stdout",
          "text": [
            "dict_keys([1, 'titi', 1000])\n",
            "dict_values(['toto', 10, (1, 2, 3)])\n",
            "dict_items([(1, 'toto'), ('titi', 10), (1000, (1, 2, 3))])\n"
          ]
        }
      ],
      "source": [
        "dico = { 1 : 'toto', 'titi' : 10, 1000 : (1,2,3)}\n",
        "print(dico.keys())\n",
        "# dict_keys(['titi', 1, 1000])\n",
        "# Obtenir les valeurs du dictionnaire\n",
        "print(dico.values())\n",
        "# dict_values([10, 'toto', [(1, 2, 3), ['A', 'b']]])\n",
        "# Obtenir les paires (clé, valeur)\n",
        "print(dico.items())"
      ]
    },
    {
      "cell_type": "markdown",
      "metadata": {
        "id": "79jdsRXgLJ6T"
      },
      "source": [
        "# Sructure De Controle\n",
        "# if_else, For, Foreach, while"
      ]
    },
    {
      "cell_type": "code",
      "execution_count": 42,
      "metadata": {
        "id": "o-0U4Xx9LTXg",
        "colab": {
          "base_uri": "https://localhost:8080/"
        },
        "outputId": "c407b8a3-82b0-4464-930f-7760368be5f8"
      },
      "outputs": [
        {
          "output_type": "stream",
          "name": "stdout",
          "text": [
            "?\n"
          ]
        }
      ],
      "source": [
        "liste=[0,5,2,3,4]\n",
        "if liste[1] == 0:\n",
        "    print('liste[1] est 0')\n",
        "elif liste[1] == 1:\n",
        "    print('liste[1] est 1')\n",
        "else:\n",
        "    print('?')"
      ]
    },
    {
      "cell_type": "code",
      "source": [
        "note=92\n",
        "if(note>90):\n",
        "  print(\"l'eleve a eu une note de mention\")\n",
        "  print(\"excellent\")\n",
        "elif (note>80):\n",
        "  print(\"tres bien\")\n",
        "else:\n",
        "  print(\"bien\")\n"
      ],
      "metadata": {
        "colab": {
          "base_uri": "https://localhost:8080/"
        },
        "id": "qpb3VuZLkBNa",
        "outputId": "5e32b827-6938-4e4c-f7c0-7d07c1d102af"
      },
      "execution_count": 43,
      "outputs": [
        {
          "output_type": "stream",
          "name": "stdout",
          "text": [
            "l'eleve a eu une note de mention\n",
            "excellent\n"
          ]
        }
      ]
    },
    {
      "cell_type": "code",
      "execution_count": 44,
      "metadata": {
        "id": "-h_mhsaFNWnW",
        "colab": {
          "base_uri": "https://localhost:8080/"
        },
        "outputId": "9bd19f40-4d9c-4c8e-9ef4-a6dfe84ced10"
      },
      "outputs": [
        {
          "output_type": "stream",
          "name": "stdout",
          "text": [
            "5\n"
          ]
        }
      ],
      "source": [
        "i = 5\n",
        "while i >= 0:\n",
        "        print(i)\n",
        "        i = i-1\n",
        "        break; #exit the loop"
      ]
    },
    {
      "cell_type": "code",
      "execution_count": 45,
      "metadata": {
        "id": "zgeiX9nBQpeQ",
        "colab": {
          "base_uri": "https://localhost:8080/"
        },
        "outputId": "48b08ffb-7e52-4df1-ae2e-ca56da20ca2c"
      },
      "outputs": [
        {
          "output_type": "stream",
          "name": "stdout",
          "text": [
            "0\n",
            "1\n",
            "2\n",
            "3\n"
          ]
        }
      ],
      "source": [
        "for i in range(7):\n",
        "  print(i)\n",
        "  if(i==3):\n",
        "    break"
      ]
    },
    {
      "cell_type": "code",
      "execution_count": 46,
      "metadata": {
        "id": "CCbcLof0PV6K",
        "colab": {
          "base_uri": "https://localhost:8080/"
        },
        "outputId": "c6df11c2-63c7-4189-ec8c-4e4a1a479894"
      },
      "outputs": [
        {
          "output_type": "stream",
          "name": "stdout",
          "text": [
            "2\n",
            "a\n",
            "3.14\n"
          ]
        }
      ],
      "source": [
        "for x in [2,'a',3.14]:\n",
        "  print(x)"
      ]
    },
    {
      "cell_type": "code",
      "source": [
        "phrase=\"Bonjour tout le monde voici notre premiere rencontre avec python\"\n",
        "nbvoyelles=0\n",
        "for i in phrase:\n",
        "  if i in 'aeiouy':\n",
        "    nbvoyelles=nbvoyelles+1\n",
        "nbvoyelles"
      ],
      "metadata": {
        "colab": {
          "base_uri": "https://localhost:8080/"
        },
        "id": "RhPEw0s_oWji",
        "outputId": "6c3eb249-2eae-4075-947c-342602bbdba7"
      },
      "execution_count": 47,
      "outputs": [
        {
          "output_type": "execute_result",
          "data": {
            "text/plain": [
              "24"
            ]
          },
          "metadata": {},
          "execution_count": 47
        }
      ]
    },
    {
      "cell_type": "code",
      "execution_count": 48,
      "metadata": {
        "id": "or7D5z6sQHTt",
        "colab": {
          "base_uri": "https://localhost:8080/"
        },
        "outputId": "ccdade25-126b-46d9-d859-f3d7d9a5d7a7"
      },
      "outputs": [
        {
          "output_type": "execute_result",
          "data": {
            "text/plain": [
              "10"
            ]
          },
          "metadata": {},
          "execution_count": 48
        }
      ],
      "source": [
        "nb_voyelles=0\n",
        "for lettre in \"python est un langage tres sympa\":\n",
        "  if lettre in 'aeiouy':\n",
        "      nb_voyelles=nb_voyelles+1\n",
        "nb_voyelles"
      ]
    },
    {
      "cell_type": "markdown",
      "source": [
        "# Fonctions"
      ],
      "metadata": {
        "id": "j0fi4hOpWY-b"
      }
    },
    {
      "cell_type": "code",
      "source": [
        "#Voici un code en Python qui compare deux variables et retourne le minimum en utilisant une fonction :\n",
        "def minimum(a, b):\n",
        "    return a if a < b else b\n",
        "\n",
        "# Exemple d'utilisation\n",
        "x = 10\n",
        "y = 20\n",
        "resultat = minimum(x, y)\n",
        "print(f\"Le minimum entre {x} et {y} est : {resultat}\")"
      ],
      "metadata": {
        "colab": {
          "base_uri": "https://localhost:8080/"
        },
        "id": "N0DHtyvvGuCm",
        "outputId": "cdda5562-8dd4-4784-f7f3-9da90c010e87"
      },
      "execution_count": 70,
      "outputs": [
        {
          "output_type": "stream",
          "name": "stdout",
          "text": [
            "Le minimum entre 10 et 20 est : 10\n"
          ]
        }
      ]
    },
    {
      "cell_type": "code",
      "source": [
        "#Pour comparer trois variables en utilisant la fonction précédente, voici comment vous pouvez adapter le code\n",
        "\n",
        "\n",
        "def minimum(a, b):\n",
        "    return a if a < b else b\n",
        "\n",
        "def minimum_de_trois(a, b, c):\n",
        "    return minimum(minimum(a, b), c)\n",
        "\n",
        "# Exemple d'utilisation\n",
        "x = 10\n",
        "y = 20\n",
        "z = 5\n",
        "resultat = minimum_de_trois(x, y, z)\n",
        "print(f\"Le minimum entre {x}, {y} et {z} est : {resultat}\")\n"
      ],
      "metadata": {
        "id": "loVTZraJWpNR",
        "colab": {
          "base_uri": "https://localhost:8080/"
        },
        "outputId": "71706001-5c53-4a86-c027-b7c84b423aa1"
      },
      "execution_count": 71,
      "outputs": [
        {
          "output_type": "stream",
          "name": "stdout",
          "text": [
            "Le minimum entre 10, 20 et 5 est : 5\n"
          ]
        }
      ]
    },
    {
      "cell_type": "markdown",
      "source": [
        "# Devoir 2\n",
        "ex1: Écrire une fonction qui calcule la factorielle d'un nombre entier positif.\n",
        "\n",
        "ex2: Créer une fonction qui inverse une chaîne de caractères donnée"
      ],
      "metadata": {
        "id": "Q9JsirS6XIBI"
      }
    },
    {
      "cell_type": "code",
      "source": [
        "#1  Écrire une fonction qui calcule la factorielle d'un nombre entier positif.\n",
        "def factorial(n):\n",
        "  if n < 0:\n",
        "    return 'not defined'\n",
        "  elif n == 0:\n",
        "    return 1\n",
        "  else:\n",
        "    result = 1\n",
        "    for i in range(1, n + 1):\n",
        "      result = result * i\n",
        "    return result\n",
        "\n",
        "number = -4\n",
        "result = factorial(number)\n",
        "print(f\"The factorial of {number} is {result}\")"
      ],
      "metadata": {
        "colab": {
          "base_uri": "https://localhost:8080/"
        },
        "id": "ihIqXbenpBak",
        "outputId": "68ac8d51-9f08-49e1-be23-b695d6e794c8"
      },
      "execution_count": 80,
      "outputs": [
        {
          "output_type": "stream",
          "name": "stdout",
          "text": [
            "The factorial of -4 is not defined\n"
          ]
        }
      ]
    },
    {
      "cell_type": "code",
      "source": [
        "#2 Créer une fonction qui inverse une chaîne de caractères donnée\n",
        "def reverse_string(text):\n",
        "    reversed_string = \"\"\n",
        "    for i in range(len(text) - 1, -1, -1): # (index of the last char in the str,\n",
        "    #stops before beginning of the string, decrements the index by 1 in each step).\n",
        "        reversed_string += text[i] # append the character at the current index\n",
        "    return reversed_string\n",
        "\n",
        "\n",
        "# Example\n",
        "my_string = \"RCP\"\n",
        "reversed_string = reverse_string(my_string)\n",
        "print(f\"The reversed string is: {reversed_string}\")\n",
        "\n",
        "#2 Autrement\n",
        "def reverse_string(text):\n",
        "  return text[::-1] #start at the beginning of the string, stop at end, increment by 1 in reverse order,\n",
        "  # starting from the end and moving backward one character at a time)\n",
        "\n",
        "# Example usage\n",
        "my_string = \"216\"\n",
        "reversed_string = reverse_string(my_string)\n",
        "print(f\"The reversed string is: {reversed_string}\")\n",
        "\n",
        "\n"
      ],
      "metadata": {
        "colab": {
          "base_uri": "https://localhost:8080/"
        },
        "id": "LB6EQWPNqwJK",
        "outputId": "c25da6e9-aa8d-4591-e1bd-4b73d623a499"
      },
      "execution_count": 84,
      "outputs": [
        {
          "output_type": "stream",
          "name": "stdout",
          "text": [
            "The reversed string is: PCR\n",
            "The reversed string is: 612\n"
          ]
        }
      ]
    },
    {
      "cell_type": "code",
      "source": [
        "f=lambda x:x**x\n",
        "f(2)\n"
      ],
      "metadata": {
        "colab": {
          "base_uri": "https://localhost:8080/"
        },
        "id": "bMgarJgHYq3V",
        "outputId": "cb2071b5-6f4a-41df-ec2c-73f910c76e40"
      },
      "execution_count": 85,
      "outputs": [
        {
          "output_type": "execute_result",
          "data": {
            "text/plain": [
              "4"
            ]
          },
          "metadata": {},
          "execution_count": 85
        }
      ]
    },
    {
      "cell_type": "code",
      "source": [
        "#ecrire un programme qui donne la sommme de deux nb en utilisant la notion de lambda\n",
        "\n",
        "somme=lambda x,y:x+y\n",
        "somme(2,3) #  def fAdHoc(x, y): return(x + y) c'est  une forme abrege de fct lambda"
      ],
      "metadata": {
        "colab": {
          "base_uri": "https://localhost:8080/"
        },
        "id": "IRg9zptGaRbK",
        "outputId": "32a57511-f8a9-4de9-9f97-2850e7fd4929"
      },
      "execution_count": 86,
      "outputs": [
        {
          "output_type": "execute_result",
          "data": {
            "text/plain": [
              "5"
            ]
          },
          "metadata": {},
          "execution_count": 86
        }
      ]
    },
    {
      "cell_type": "code",
      "source": [
        "#Écrire une fonction lambda qui renvoie la plus grande des deux valeurs numériques passées en entrée.\n",
        "(lambda x, y: x if x > y else y)(10,35)"
      ],
      "metadata": {
        "colab": {
          "base_uri": "https://localhost:8080/"
        },
        "id": "e-V7Ad-za_F5",
        "outputId": "0f911269-a4fa-4cf2-8995-318d0b9181a3"
      },
      "execution_count": 87,
      "outputs": [
        {
          "output_type": "execute_result",
          "data": {
            "text/plain": [
              "35"
            ]
          },
          "metadata": {},
          "execution_count": 87
        }
      ]
    },
    {
      "cell_type": "markdown",
      "source": [
        "# Class and constructor heritage"
      ],
      "metadata": {
        "id": "GqU97WyJWdeD"
      }
    },
    {
      "cell_type": "code",
      "source": [
        "class Person():\n",
        "  #constructeur\n",
        "  def __init__(self,name,age, gender, address, city): #initialiser les attributs d'une nouvelle instance de la classe Person.\n",
        "    self.name = name # À l'intérieur du constructeur, l'instruction self.name = name\n",
        "    # stocke la valeur 'hassan' dans l'attribut d'instance name de l'objet p1.\n",
        "    self.age = age\n",
        "    self.gender = gender\n",
        "    self.address = address\n",
        "    self.city = city\n",
        "\n",
        "  #methodes\n",
        "  def printing(self):\n",
        "    print(f'Name={self.name}')\n",
        "    print(f'Age={self.age}')\n",
        "    print(f'gender={self.gender}')\n",
        "\n",
        "  def print_info(self):\n",
        "      return {\n",
        "    'name' : self.name,\n",
        "    'age' :self.age,\n",
        "    'gender' : self.gender,\n",
        "    'address': self.address,\n",
        "    'city': self.city,\n",
        "        }\n",
        "p1=Person('hassan','12','male','sfeir','be');\n",
        "print(p1.name)\n",
        "print(\"*\"*35)\n",
        "p1.printing()\n",
        "print(\"*\"*35)\n",
        "p1.print_info()"
      ],
      "metadata": {
        "colab": {
          "base_uri": "https://localhost:8080/"
        },
        "id": "ect4NUDPWiMw",
        "outputId": "0a90abda-4bbc-4d2c-9298-532b0037bdad"
      },
      "execution_count": 90,
      "outputs": [
        {
          "output_type": "stream",
          "name": "stdout",
          "text": [
            "hassan\n",
            "***********************************\n",
            "Name=hassan\n",
            "Age=12\n",
            "gender=male\n",
            "***********************************\n"
          ]
        },
        {
          "output_type": "execute_result",
          "data": {
            "text/plain": [
              "{'name': 'hassan',\n",
              " 'age': '12',\n",
              " 'gender': 'male',\n",
              " 'address': 'sfeir',\n",
              " 'city': 'be'}"
            ]
          },
          "metadata": {},
          "execution_count": 90
        }
      ]
    },
    {
      "cell_type": "code",
      "source": [
        "from re import X\n",
        "\n",
        "class Student(Person):\n",
        "\n",
        "    def __init__(self,name,age, gender, address, city,grade):\n",
        "      super().__init__(name,age, gender, address, city)\n",
        "      self.grade=grade\n",
        "    def evaluation(self):\n",
        "      print(self.grade)\n",
        "      mean= sum(self.grade.values())/len(self.grade.values()) #le dictionnaire Compute toutes les notes  avec le deboulante\n",
        "      print(mean)\n",
        "      return mean"
      ],
      "metadata": {
        "id": "r0xkbk2kcPut"
      },
      "execution_count": 91,
      "outputs": []
    },
    {
      "cell_type": "code",
      "source": [
        "st=Student('hassan','12','male','sfeir','be',{'math': 18, 'physics': 15, 'chemistry': 18, 'biology': 18});\n",
        "st.evaluation()"
      ],
      "metadata": {
        "colab": {
          "base_uri": "https://localhost:8080/"
        },
        "id": "QDCA9NrgcxED",
        "outputId": "c5aa29cb-7ea9-45de-cbe7-e965564795c2"
      },
      "execution_count": null,
      "outputs": [
        {
          "output_type": "stream",
          "name": "stdout",
          "text": [
            "{'math': 18, 'physics': 15, 'chemistry': 18, 'biology': 18}\n",
            "4\n",
            "17.25\n"
          ]
        },
        {
          "output_type": "execute_result",
          "data": {
            "text/plain": [
              "17.25"
            ]
          },
          "metadata": {},
          "execution_count": 15
        }
      ]
    },
    {
      "cell_type": "code",
      "source": [
        "student={}\n",
        "j=0\n",
        "while True:\n",
        "  j+=1\n",
        "  student_name = input(f'\\n enter the name of the student:')\n",
        "  student_age = input(f'\\n enter the age of the student:')\n",
        "  student_gender = input(f'\\n enter the gender of the student:')\n",
        "  student_address = input(f'\\n enter the address of the student:')\n",
        "  student_city = input(f'\\n enter the city of the student:')\n",
        "  math=input(f'\\n enter the math course of the student:')\n",
        "  science=input(f'\\n enter the science course of the student:')\n",
        "  physic=input(f'\\n enter the physic course of the student:')\n",
        "  student[j]=Student(student_name,student_age,student_gender,\n",
        "                 student_address,student_city,{'Math':float(math),'Science':\n",
        "                                              float(science),'Physic':float(physic)})\n",
        "  student[j].evaluation()\n",
        "  end= input(\"if you finish input  enter end:\")\n",
        "  if end =='end':\n",
        "   break\n",
        "\n",
        "  print(\"*\"*50)\n"
      ],
      "metadata": {
        "id": "HNhVsAtxcZ7_",
        "colab": {
          "base_uri": "https://localhost:8080/",
          "height": 506
        },
        "outputId": "a02cef9b-e9e9-46d3-8480-dde83b621baf"
      },
      "execution_count": 92,
      "outputs": [
        {
          "name": "stdout",
          "output_type": "stream",
          "text": [
            "\n",
            " enter the name of the student:a\n",
            "\n",
            " enter the age of the student:b\n",
            "\n",
            " enter the gender of the student:c\n",
            "\n",
            " enter the address of the student:d\n",
            "\n",
            " enter the city of the student:e\n",
            "\n",
            " enter the math course of the student:e\n",
            "\n",
            " enter the science=course of the student:e\n",
            "\n",
            " enter the physic course of the student:f\n"
          ]
        },
        {
          "output_type": "error",
          "ename": "ValueError",
          "evalue": "could not convert string to float: 'e'",
          "traceback": [
            "\u001b[0;31m---------------------------------------------------------------------------\u001b[0m",
            "\u001b[0;31mValueError\u001b[0m                                Traceback (most recent call last)",
            "\u001b[0;32m<ipython-input-92-cf3948fc2901>\u001b[0m in \u001b[0;36m<cell line: 3>\u001b[0;34m()\u001b[0m\n\u001b[1;32m     12\u001b[0m   \u001b[0mphysic\u001b[0m\u001b[0;34m=\u001b[0m\u001b[0minput\u001b[0m\u001b[0;34m(\u001b[0m\u001b[0;34mf'\\n enter the physic course of the student:'\u001b[0m\u001b[0;34m)\u001b[0m\u001b[0;34m\u001b[0m\u001b[0;34m\u001b[0m\u001b[0m\n\u001b[1;32m     13\u001b[0m   student[j]=Student(student_name,student_age,student_gender,\n\u001b[0;32m---> 14\u001b[0;31m                  student_address,student_city,{'Math':float(math),'Science':\n\u001b[0m\u001b[1;32m     15\u001b[0m                                               float(science),'Physic':float(physic)})\n\u001b[1;32m     16\u001b[0m   \u001b[0mstudent\u001b[0m\u001b[0;34m[\u001b[0m\u001b[0mj\u001b[0m\u001b[0;34m]\u001b[0m\u001b[0;34m.\u001b[0m\u001b[0mevaluation\u001b[0m\u001b[0;34m(\u001b[0m\u001b[0;34m)\u001b[0m\u001b[0;34m\u001b[0m\u001b[0;34m\u001b[0m\u001b[0m\n",
            "\u001b[0;31mValueError\u001b[0m: could not convert string to float: 'e'"
          ]
        }
      ]
    },
    {
      "cell_type": "markdown",
      "source": [
        "# numpy"
      ],
      "metadata": {
        "id": "NL3553nUsdRU"
      }
    },
    {
      "cell_type": "code",
      "source": [
        "import numpy as np"
      ],
      "metadata": {
        "id": "6rCduPnis0dq"
      },
      "execution_count": 50,
      "outputs": []
    },
    {
      "cell_type": "code",
      "source": [
        "a = np.array([1, 2, 3])  # Create a rank 1 array (3,1)\n",
        "print(\"la dimension de a est\",a.ndim)\n",
        "print(type(a), a.shape, a[0], a[1], a[2])\n",
        "a[0] = 5                 # Change an element of the array\n",
        "print(a)"
      ],
      "metadata": {
        "colab": {
          "base_uri": "https://localhost:8080/"
        },
        "id": "FXVxO8JbtPeq",
        "outputId": "7f776559-9a77-4833-eb58-7a0afa329fd8"
      },
      "execution_count": 53,
      "outputs": [
        {
          "output_type": "stream",
          "name": "stdout",
          "text": [
            "la dimension de a est 1\n",
            "<class 'numpy.ndarray'> (3,) 1 2 3\n",
            "[5 2 3]\n"
          ]
        }
      ]
    },
    {
      "cell_type": "code",
      "source": [
        "a = np.array([[1,2,3],[4,5,6],[7,8,9]])   # Create a rank 2 array\n",
        "print(\"la dimension\",a.ndim)\n",
        "print(type(a), a.shape, a[0][0], a[1][1], a[1][2])\n",
        "print(a)"
      ],
      "metadata": {
        "colab": {
          "base_uri": "https://localhost:8080/"
        },
        "id": "qfw_sy6YtPsw",
        "outputId": "25e6ba95-a6a7-4014-a0ca-9b9eef998600"
      },
      "execution_count": 55,
      "outputs": [
        {
          "output_type": "stream",
          "name": "stdout",
          "text": [
            "la dimension 2\n",
            "<class 'numpy.ndarray'> (3, 3) 1 5 6\n",
            "[[1 2 3]\n",
            " [4 5 6]\n",
            " [7 8 9]]\n"
          ]
        }
      ]
    },
    {
      "cell_type": "code",
      "source": [
        "# try rank 3 array\n",
        "a = np.array([[[1,2],[3,4]],[[5,6],[7,8]]])\n",
        "print(\"la dimension\",a.ndim)"
      ],
      "metadata": {
        "colab": {
          "base_uri": "https://localhost:8080/"
        },
        "id": "tSS0i8cHbIHc",
        "outputId": "9fab14fe-b4d4-4170-92dd-86c0f6b76182"
      },
      "execution_count": 59,
      "outputs": [
        {
          "output_type": "stream",
          "name": "stdout",
          "text": [
            "la dimension 3\n"
          ]
        }
      ]
    },
    {
      "cell_type": "code",
      "source": [
        "a = np.zeros((2,2))  # Create an array of all zeros\n",
        "print(a)\n",
        "b = np.ones((4,2))   # Create an array of all ones\n",
        "print(b)\n",
        "c = np.full((2,2), 7) # Create a constant array\n",
        "print(c)\n",
        "e = np.random.random((2,2)) # Create an array filled with random values\n",
        "print(e)"
      ],
      "metadata": {
        "colab": {
          "base_uri": "https://localhost:8080/"
        },
        "id": "_C9dy-4rtdE2",
        "outputId": "f95ca52b-532f-4561-ea11-b4c88b153896"
      },
      "execution_count": 60,
      "outputs": [
        {
          "output_type": "stream",
          "name": "stdout",
          "text": [
            "[[0. 0.]\n",
            " [0. 0.]]\n",
            "[[1. 1.]\n",
            " [1. 1.]\n",
            " [1. 1.]\n",
            " [1. 1.]]\n",
            "[[7 7]\n",
            " [7 7]]\n",
            "[[0.29952665 0.17537515]\n",
            " [0.70465821 0.60673871]]\n"
          ]
        }
      ]
    },
    {
      "cell_type": "code",
      "source": [
        "arr3=np.ones((2,2))\n",
        "print(arr3)\n",
        "arr4=np.zeros((3,4))\n",
        "print(arr4)\n",
        "arr5= np.arange(10)\n",
        "print(arr5)\n",
        "arr6=np.linspace(0,30,10)\n",
        "print(arr6)\n",
        "arr7= np.random.rand(2,3)\n",
        "print(arr7)\n",
        "arr8= arr4.reshape(12)\n",
        "print(arr8)"
      ],
      "metadata": {
        "colab": {
          "base_uri": "https://localhost:8080/"
        },
        "id": "VObXcgSltjcb",
        "outputId": "391cfe09-f10a-4281-d4aa-75d34a75d9ba"
      },
      "execution_count": 62,
      "outputs": [
        {
          "output_type": "stream",
          "name": "stdout",
          "text": [
            "[[1. 1.]\n",
            " [1. 1.]]\n",
            "[[0. 0. 0. 0.]\n",
            " [0. 0. 0. 0.]\n",
            " [0. 0. 0. 0.]]\n",
            "[0 1 2 3 4 5 6 7 8 9]\n",
            "[ 0.          3.33333333  6.66666667 10.         13.33333333 16.66666667\n",
            " 20.         23.33333333 26.66666667 30.        ]\n",
            "[[0.84717143 0.87792721 0.36606516]\n",
            " [0.89866954 0.84751096 0.02955578]]\n",
            "[0. 0. 0. 0. 0. 0. 0. 0. 0. 0. 0. 0.]\n"
          ]
        }
      ]
    },
    {
      "cell_type": "code",
      "source": [
        "import numpy as np\n",
        "\n",
        "# Create the following rank 2 array with shape (3, 4)\n",
        "# [[ 1  2  3  4]\n",
        "#  [ 5  6  7  8]\n",
        "#  [ 9 10 11 12]]\n",
        "a = np.array([[1,2,3,4], [5,6,7,8], [9,10,11,12]])\n",
        "\n",
        "# Use slicing to pull out the subarray consisting of the first 2 rows\n",
        "# and columns 1 and 2; b is the following array of shape (2, 2):\n",
        "# [[2 3]\n",
        "#  [6 7]]\n",
        "b = a[:2, 1:3]\n",
        "print(b)"
      ],
      "metadata": {
        "colab": {
          "base_uri": "https://localhost:8080/"
        },
        "id": "IHkqWGUntpaJ",
        "outputId": "c2d55990-1035-494f-d17d-4067fb104784"
      },
      "execution_count": 64,
      "outputs": [
        {
          "output_type": "stream",
          "name": "stdout",
          "text": [
            "[[2 3]\n",
            " [6 7]]\n"
          ]
        }
      ]
    },
    {
      "cell_type": "code",
      "source": [
        "a = np.array([[1,2,3,4], [5,6,7,8], [9,10,11,12]])\n",
        "print(a)\n",
        "row_r1 = a[1, :]    # Rank 1 view of the second row of a\n",
        "row_r2 = a[1:2, :]  # Rank 2 view of the second row of a\n",
        "row_r3 = a[[1], 1:2]  # Rank 2 view of the second row of a\n",
        "print(row_r1, row_r1.shape)\n",
        "print(row_r2, row_r2.shape)\n",
        "print(row_r3, row_r3.shape)"
      ],
      "metadata": {
        "colab": {
          "base_uri": "https://localhost:8080/"
        },
        "id": "8XY1ZEP7ttgw",
        "outputId": "e54b90b5-5ef2-4b6f-eab7-b6dadc135d20"
      },
      "execution_count": 66,
      "outputs": [
        {
          "output_type": "stream",
          "name": "stdout",
          "text": [
            "[[ 1  2  3  4]\n",
            " [ 5  6  7  8]\n",
            " [ 9 10 11 12]]\n",
            "[5 6 7 8] (4,)\n",
            "[[5 6 7 8]] (1, 4)\n",
            "[[6]] (1, 1)\n"
          ]
        }
      ]
    },
    {
      "cell_type": "code",
      "source": [
        "# We can make the same distinction when accessing columns of an array:\n",
        "col_r1 = a[:, 1]\n",
        "col_r2 = a[:, 1:2]\n",
        "print(col_r1, col_r1.shape)\n",
        "print()\n",
        "print(col_r2, col_r2.shape)"
      ],
      "metadata": {
        "colab": {
          "base_uri": "https://localhost:8080/"
        },
        "id": "fb0w-wXRtv75",
        "outputId": "64d31496-4e15-4cf7-991e-6a14bb70717c"
      },
      "execution_count": 67,
      "outputs": [
        {
          "output_type": "stream",
          "name": "stdout",
          "text": [
            "[ 2  6 10] (3,)\n",
            "\n",
            "[[ 2]\n",
            " [ 6]\n",
            " [10]] (3, 1)\n"
          ]
        }
      ]
    },
    {
      "cell_type": "code",
      "source": [
        "x = np.array([[1,2],[3,4]], dtype=np.float64)\n",
        "y = np.array([[5,6],[7,8]], dtype=np.float64)\n",
        "\n",
        "# Elementwise sum; both produce the array\n",
        "print(x + y)\n",
        "print(np.add(x, y))"
      ],
      "metadata": {
        "colab": {
          "base_uri": "https://localhost:8080/"
        },
        "id": "Z7xV-mjVuA7F",
        "outputId": "27c67cac-a567-4f83-e066-44a5fbddc76f"
      },
      "execution_count": 68,
      "outputs": [
        {
          "output_type": "stream",
          "name": "stdout",
          "text": [
            "[[ 6.  8.]\n",
            " [10. 12.]]\n",
            "[[ 6.  8.]\n",
            " [10. 12.]]\n"
          ]
        }
      ]
    },
    {
      "cell_type": "code",
      "source": [
        "# Elementwise product; both produce the array\n",
        "print(x * y)\n",
        "print(np.multiply(x, y))"
      ],
      "metadata": {
        "colab": {
          "base_uri": "https://localhost:8080/"
        },
        "id": "a7DdBTjqt4by",
        "outputId": "2375e007-ac84-4670-f7bd-031cda7d847a"
      },
      "execution_count": 69,
      "outputs": [
        {
          "output_type": "stream",
          "name": "stdout",
          "text": [
            "[[ 5. 12.]\n",
            " [21. 32.]]\n",
            "[[ 5. 12.]\n",
            " [21. 32.]]\n"
          ]
        }
      ]
    },
    {
      "cell_type": "markdown",
      "source": [
        "# File , Pickel\n",
        "#creation du fichier\n",
        "#voici 2 methode differentes:\n",
        "Créer un fichier à partir de l'interface Google Colab\n",
        "Ouvrir Google Colab : Allez sur Google Colab et ouvrez un nouveau notebook ou un notebook existant.\n",
        "Accéder aux fichiers : Sur le côté gauche de l'écran, cliquez sur l'icône en forme de dossier pour ouvrir l'onglet \"Fichiers\".\n",
        "Créer un nouveau fichier :\n",
        "Cliquez sur l'icône de nouveau fichier (feuille de papier avec un signe \"+\") en haut de la section des fichiers.\n",
        "Une boîte de dialogue s'ouvrira vous permettant de nommer le fichier.\n",
        "Une fois le fichier créé, il apparaîtra dans votre répertoire temporaire de Colab."
      ],
      "metadata": {
        "id": "-FRzlm1k4vTL"
      }
    },
    {
      "cell_type": "code",
      "source": [
        "#Vous pouvez aussi créer un fichier directement dans votre code Python avec la commande suivante\n",
        "#le fichier est ouvert en mode ecriture en utilisant la commande 'w':\n",
        "with open('mon_fichier.txt', 'w') as f:\n",
        "    f.write(\"Ceci est le contenu de mon fichier.\")\n",
        "\n",
        "# Vérifier si le fichier a été créé\n",
        "!ls\n",
        "#cliquer sur le fichier a gauche pour voir le contenu du fichier"
      ],
      "metadata": {
        "colab": {
          "base_uri": "https://localhost:8080/"
        },
        "id": "trdJREg-41h9",
        "outputId": "e9db99dd-97db-4843-8601-23f4fa243d23"
      },
      "execution_count": 93,
      "outputs": [
        {
          "output_type": "stream",
          "name": "stdout",
          "text": [
            "mon_fichier.txt  sample_data\n"
          ]
        }
      ]
    },
    {
      "cell_type": "code",
      "source": [
        "#Voici le code pour lire un fichier en mode read dans Google Colab (ou en Python en général) :\n",
        "\n",
        "# Lire un fichier texte en mode lecture (read)\n",
        "with open('mon_fichier.txt', 'r') as f:\n",
        "    contenu = f.read() # La méthode .read() lit tout le contenu du fichier.\n",
        "    print(contenu)\n"
      ],
      "metadata": {
        "colab": {
          "base_uri": "https://localhost:8080/"
        },
        "id": "aDtJdVUwovfq",
        "outputId": "b80016ee-03bd-4f89-c75b-7edb8e0408c8"
      },
      "execution_count": 94,
      "outputs": [
        {
          "output_type": "stream",
          "name": "stdout",
          "text": [
            "Ceci est le contenu de mon fichier.\n"
          ]
        }
      ]
    },
    {
      "cell_type": "code",
      "source": [
        "#parfois on abesoin de  Lire un fichier ligne par ligne\n",
        "\n",
        "with open('mon_fichier.txt', 'r') as f:\n",
        "    for ligne in f:\n",
        "        print(ligne.strip())"
      ],
      "metadata": {
        "id": "_WKu2QYDqOOP",
        "colab": {
          "base_uri": "https://localhost:8080/"
        },
        "outputId": "15861213-2aeb-4617-f888-73df1113ad49"
      },
      "execution_count": 95,
      "outputs": [
        {
          "output_type": "stream",
          "name": "stdout",
          "text": [
            "Ceci est le contenu de mon fichier.\n"
          ]
        }
      ]
    },
    {
      "cell_type": "code",
      "source": [
        "# Ouvrir (ou créer) un fichier en mode écriture (write)\n",
        "with open('mon_fichier.txt', 'w') as f:\n",
        "    f.write(\"Ceci est la première ligne.\\n\") # Le caractère spécial \\n est utilisé pour ajouter un saut de ligne.\n",
        "    f.write(\"Ceci est la deuxième ligne.\\n\")"
      ],
      "metadata": {
        "id": "_XzwMN0CqggD"
      },
      "execution_count": 96,
      "outputs": []
    },
    {
      "cell_type": "code",
      "source": [
        "#Si vous voulez ajouter du contenu sans écraser ce qui existe déjà dans le fichier, vous pouvez ouvrir le fichier en mode append ('a') :\n",
        "# Ouvrir un fichier en mode ajout (append)\n",
        "with open('mon_fichier.txt', 'a') as f:\n",
        "    f.write(\"Ceci est une nouvelle ligne ajoutée.\\n\")\n",
        "    f.close() #fermeture du fichier\n"
      ],
      "metadata": {
        "id": "EHDgIU9-q59n"
      },
      "execution_count": 98,
      "outputs": []
    },
    {
      "cell_type": "code",
      "source": [
        "contenu = f.read()"
      ],
      "metadata": {
        "colab": {
          "base_uri": "https://localhost:8080/",
          "height": 141
        },
        "id": "suZT-QO-r_MT",
        "outputId": "ccebcf89-3d11-4c76-893a-127410d3e71e"
      },
      "execution_count": null,
      "outputs": [
        {
          "output_type": "error",
          "ename": "ValueError",
          "evalue": "I/O operation on closed file.",
          "traceback": [
            "\u001b[0;31m---------------------------------------------------------------------------\u001b[0m",
            "\u001b[0;31mValueError\u001b[0m                                Traceback (most recent call last)",
            "\u001b[0;32m<ipython-input-6-81425df492ba>\u001b[0m in \u001b[0;36m<cell line: 1>\u001b[0;34m()\u001b[0m\n\u001b[0;32m----> 1\u001b[0;31m \u001b[0mcontenu\u001b[0m \u001b[0;34m=\u001b[0m \u001b[0mf\u001b[0m\u001b[0;34m.\u001b[0m\u001b[0mread\u001b[0m\u001b[0;34m(\u001b[0m\u001b[0;34m)\u001b[0m\u001b[0;34m\u001b[0m\u001b[0;34m\u001b[0m\u001b[0m\n\u001b[0m",
            "\u001b[0;31mValueError\u001b[0m: I/O operation on closed file."
          ]
        }
      ]
    },
    {
      "cell_type": "code",
      "source": [
        "import pickle\n",
        "\n",
        "# Objet Python à sérialiser\n",
        "mon_objet = {\"nom\": \"Alice\", \"âge\": 30, \"profession\": \"ingénieur\"}\n",
        "\n",
        "# Sérialiser et sauvegarder dans un fichier\n",
        "with open('objet_pickle.pkl', 'wb') as fichier:  # 'wb' pour écriture binaire\n",
        "    pickle.dump(mon_objet, fichier)\n"
      ],
      "metadata": {
        "id": "r6nfj8nVsJlg"
      },
      "execution_count": null,
      "outputs": []
    },
    {
      "cell_type": "code",
      "source": [
        "#Désérialisation d'un objet avec pickle (chargement)\n",
        "import pickle\n",
        "\n",
        "# Charger l'objet à partir du fichier\n",
        "with open('objet_pickle.pkl', 'rb') as fichier:  # 'rb' pour lecture binaire\n",
        "    mon_objet_chargé = pickle.load(fichier)\n",
        "\n",
        "print(mon_objet_chargé)\n"
      ],
      "metadata": {
        "colab": {
          "base_uri": "https://localhost:8080/"
        },
        "id": "-piPhVcwwRNx",
        "outputId": "ea0310a6-fda4-4afb-cf2c-245814316dd0"
      },
      "execution_count": null,
      "outputs": [
        {
          "output_type": "stream",
          "name": "stdout",
          "text": [
            "{'nom': 'Alice', 'âge': 30, 'profession': 'ingénieur'}\n"
          ]
        }
      ]
    },
    {
      "cell_type": "code",
      "source": [
        "import matplotlib.pyplot as plt\n",
        "import numpy as np"
      ],
      "metadata": {
        "id": "2i70C0lYwXGn"
      },
      "execution_count": null,
      "outputs": []
    },
    {
      "cell_type": "code",
      "source": [
        "#Construisons d’abord un graphique très simple :\n",
        "plt.plot(np.random.rand(100))  # données générées aléatoirement\n",
        "plt.show(block=False)"
      ],
      "metadata": {
        "colab": {
          "base_uri": "https://localhost:8080/",
          "height": 430
        },
        "id": "FjNkZFCM24Da",
        "outputId": "49842e1b-6f5c-4fea-f1bb-1b6523312d05"
      },
      "execution_count": null,
      "outputs": [
        {
          "output_type": "display_data",
          "data": {
            "text/plain": [
              "<Figure size 640x480 with 1 Axes>"
            ],
            "image/png": "[encoded data removed]"
          },
          "metadata": {}
        }
      ]
    },
    {
      "cell_type": "code",
      "source": [
        "import matplotlib.pyplot as plt\n",
        "\n",
        "plt.plot([1, 2, 3, 4])\n",
        "plt.show()  # Bloque l'exécution du programme jusqu'à ce que la fenêtre du graphique soit fermée\n",
        "print(\"Ceci ne s'affichera qu'après la fermeture de la fenêtre du graphique.\")\n"
      ],
      "metadata": {
        "id": "tpYy4z8N3vS6",
        "outputId": "18740974-f310-45ac-d6e1-9adcc4c05883",
        "colab": {
          "base_uri": "https://localhost:8080/",
          "height": 447
        }
      },
      "execution_count": null,
      "outputs": [
        {
          "output_type": "display_data",
          "data": {
            "text/plain": [
              "<Figure size 640x480 with 1 Axes>"
            ],
            "image/png": "[encoded data removed]"
          },
          "metadata": {}
        },
        {
          "output_type": "stream",
          "name": "stdout",
          "text": [
            "Ceci ne s'affichera qu'après la fermeture de la fenêtre du graphique.\n"
          ]
        }
      ]
    },
    {
      "cell_type": "code",
      "source": [
        "import matplotlib.pyplot as plt\n",
        "\n",
        "# Données d'exemple\n",
        "x = [1, 2, 3, 4, 5]\n",
        "y = [10, 15, 13, 18, 16]\n",
        "\n",
        "# Tracer les données\n",
        "plt.plot(x, y, marker='o', color='b', label='Valeurs') #Trace les points (x, y) avec des marqueurs en forme de cercle (o)\n",
        "#et de couleur bleue (b). Le paramètre label='Valeurs' sera utilisé dans la légende.\n",
        "\n",
        "# Ajouter le titre et les labels des axes\n",
        "plt.title('Exemple de graphique')  # Titre du graphique\n",
        "plt.xlabel('Numéro de point')       # Label pour l'axe des x\n",
        "plt.ylabel('Valeurs')               # Label pour l'axe des y\n",
        "\n",
        "# Ajouter la légende\n",
        "plt.legend(loc='best')  # Légende pour décrire les séries de données\n",
        "\n",
        "# Afficher le graphique\n",
        "plt.show()\n"
      ],
      "metadata": {
        "id": "MBf0x2Y33Gbi",
        "colab": {
          "base_uri": "https://localhost:8080/",
          "height": 472
        },
        "outputId": "c78f66c1-d2ac-4cc2-9483-cee9fb462e38"
      },
      "execution_count": null,
      "outputs": [
        {
          "output_type": "display_data",
          "data": {
            "text/plain": [
              "<Figure size 640x480 with 1 Axes>"
            ],
            "image/png": "[encoded data removed]"
          },
          "metadata": {}
        }
      ]
    },
    {
      "cell_type": "code",
      "source": [
        "#Voici un exemple de code pour lire des données depuis un fichier Excel et les afficher dans un graphique :\n",
        "import pandas as pd\n",
        "import matplotlib.pyplot as plt\n",
        "\n",
        "# Charger les données depuis un fichier Excel\n",
        "# Remplacez 'mon_fichier.xlsx' par le chemin vers votre fichier Excel\n",
        "# Et 'Sheet1' par le nom de la feuille (onglet) si nécessaire\n",
        "df = pd.read_excel('mon_fichier.xlsx', sheet_name='Sheet1')\n",
        "\n",
        "# Supposons que le fichier Excel contient deux colonnes : 'X' et 'Y'\n",
        "x = df['X']  # Lire les valeurs de la colonne 'X'\n",
        "y = df['Y']  # Lire les valeurs de la colonne 'Y'\n",
        "\n",
        "# Tracer les données\n",
        "plt.plot(x, y, marker='o', color='b', label='Données Excel')\n",
        "plt.title('Graphique à partir des données Excel')\n",
        "plt.xlabel('Axe X')\n",
        "plt.ylabel('Axe Y')\n",
        "plt.legend()\n",
        "\n",
        "# Afficher le graphique\n",
        "plt.show()\n"
      ],
      "metadata": {
        "colab": {
          "base_uri": "https://localhost:8080/",
          "height": 356
        },
        "id": "lKZv3GzWFS16",
        "outputId": "7cb57040-6150-4501-b30f-4aee904b8d34"
      },
      "execution_count": null,
      "outputs": [
        {
          "output_type": "error",
          "ename": "FileNotFoundError",
          "evalue": "[Errno 2] No such file or directory: 'mon_fichier.xlsx'",
          "traceback": [
            "\u001b[0;31m---------------------------------------------------------------------------\u001b[0m",
            "\u001b[0;31mFileNotFoundError\u001b[0m                         Traceback (most recent call last)",
            "\u001b[0;32m<ipython-input-4-663b2cbdc4b6>\u001b[0m in \u001b[0;36m<cell line: 8>\u001b[0;34m()\u001b[0m\n\u001b[1;32m      6\u001b[0m \u001b[0;31m# Remplacez 'mon_fichier.xlsx' par le chemin vers votre fichier Excel\u001b[0m\u001b[0;34m\u001b[0m\u001b[0;34m\u001b[0m\u001b[0m\n\u001b[1;32m      7\u001b[0m \u001b[0;31m# Et 'Sheet1' par le nom de la feuille (onglet) si nécessaire\u001b[0m\u001b[0;34m\u001b[0m\u001b[0;34m\u001b[0m\u001b[0m\n\u001b[0;32m----> 8\u001b[0;31m \u001b[0mdf\u001b[0m \u001b[0;34m=\u001b[0m \u001b[0mpd\u001b[0m\u001b[0;34m.\u001b[0m\u001b[0mread_excel\u001b[0m\u001b[0;34m(\u001b[0m\u001b[0;34m'mon_fichier.xlsx'\u001b[0m\u001b[0;34m,\u001b[0m \u001b[0msheet_name\u001b[0m\u001b[0;34m=\u001b[0m\u001b[0;34m'Sheet1'\u001b[0m\u001b[0;34m)\u001b[0m\u001b[0;34m\u001b[0m\u001b[0;34m\u001b[0m\u001b[0m\n\u001b[0m\u001b[1;32m      9\u001b[0m \u001b[0;34m\u001b[0m\u001b[0m\n\u001b[1;32m     10\u001b[0m \u001b[0;31m# Supposons que le fichier Excel contient deux colonnes : 'X' et 'Y'\u001b[0m\u001b[0;34m\u001b[0m\u001b[0;34m\u001b[0m\u001b[0m\n",
            "\u001b[0;32m/usr/local/lib/python3.10/dist-packages/pandas/io/excel/_base.py\u001b[0m in \u001b[0;36mread_excel\u001b[0;34m(io, sheet_name, header, names, index_col, usecols, dtype, engine, converters, true_values, false_values, skiprows, nrows, na_values, keep_default_na, na_filter, verbose, parse_dates, date_parser, date_format, thousands, decimal, comment, skipfooter, storage_options, dtype_backend, engine_kwargs)\u001b[0m\n\u001b[1;32m    493\u001b[0m     \u001b[0;32mif\u001b[0m \u001b[0;32mnot\u001b[0m \u001b[0misinstance\u001b[0m\u001b[0;34m(\u001b[0m\u001b[0mio\u001b[0m\u001b[0;34m,\u001b[0m \u001b[0mExcelFile\u001b[0m\u001b[0;34m)\u001b[0m\u001b[0;34m:\u001b[0m\u001b[0;34m\u001b[0m\u001b[0;34m\u001b[0m\u001b[0m\n\u001b[1;32m    494\u001b[0m         \u001b[0mshould_close\u001b[0m \u001b[0;34m=\u001b[0m \u001b[0;32mTrue\u001b[0m\u001b[0;34m\u001b[0m\u001b[0;34m\u001b[0m\u001b[0m\n\u001b[0;32m--> 495\u001b[0;31m         io = ExcelFile(\n\u001b[0m\u001b[1;32m    496\u001b[0m             \u001b[0mio\u001b[0m\u001b[0;34m,\u001b[0m\u001b[0;34m\u001b[0m\u001b[0;34m\u001b[0m\u001b[0m\n\u001b[1;32m    497\u001b[0m             \u001b[0mstorage_options\u001b[0m\u001b[0;34m=\u001b[0m\u001b[0mstorage_options\u001b[0m\u001b[0;34m,\u001b[0m\u001b[0;34m\u001b[0m\u001b[0;34m\u001b[0m\u001b[0m\n",
            "\u001b[0;32m/usr/local/lib/python3.10/dist-packages/pandas/io/excel/_base.py\u001b[0m in \u001b[0;36m__init__\u001b[0;34m(self, path_or_buffer, engine, storage_options, engine_kwargs)\u001b[0m\n\u001b[1;32m   1548\u001b[0m                 \u001b[0mext\u001b[0m \u001b[0;34m=\u001b[0m \u001b[0;34m\"xls\"\u001b[0m\u001b[0;34m\u001b[0m\u001b[0;34m\u001b[0m\u001b[0m\n\u001b[1;32m   1549\u001b[0m             \u001b[0;32melse\u001b[0m\u001b[0;34m:\u001b[0m\u001b[0;34m\u001b[0m\u001b[0;34m\u001b[0m\u001b[0m\n\u001b[0;32m-> 1550\u001b[0;31m                 ext = inspect_excel_format(\n\u001b[0m\u001b[1;32m   1551\u001b[0m                     \u001b[0mcontent_or_path\u001b[0m\u001b[0;34m=\u001b[0m\u001b[0mpath_or_buffer\u001b[0m\u001b[0;34m,\u001b[0m \u001b[0mstorage_options\u001b[0m\u001b[0;34m=\u001b[0m\u001b[0mstorage_options\u001b[0m\u001b[0;34m\u001b[0m\u001b[0;34m\u001b[0m\u001b[0m\n\u001b[1;32m   1552\u001b[0m                 )\n",
            "\u001b[0;32m/usr/local/lib/python3.10/dist-packages/pandas/io/excel/_base.py\u001b[0m in \u001b[0;36minspect_excel_format\u001b[0;34m(content_or_path, storage_options)\u001b[0m\n\u001b[1;32m   1400\u001b[0m         \u001b[0mcontent_or_path\u001b[0m \u001b[0;34m=\u001b[0m \u001b[0mBytesIO\u001b[0m\u001b[0;34m(\u001b[0m\u001b[0mcontent_or_path\u001b[0m\u001b[0;34m)\u001b[0m\u001b[0;34m\u001b[0m\u001b[0;34m\u001b[0m\u001b[0m\n\u001b[1;32m   1401\u001b[0m \u001b[0;34m\u001b[0m\u001b[0m\n\u001b[0;32m-> 1402\u001b[0;31m     with get_handle(\n\u001b[0m\u001b[1;32m   1403\u001b[0m         \u001b[0mcontent_or_path\u001b[0m\u001b[0;34m,\u001b[0m \u001b[0;34m\"rb\"\u001b[0m\u001b[0;34m,\u001b[0m \u001b[0mstorage_options\u001b[0m\u001b[0;34m=\u001b[0m\u001b[0mstorage_options\u001b[0m\u001b[0;34m,\u001b[0m \u001b[0mis_text\u001b[0m\u001b[0;34m=\u001b[0m\u001b[0;32mFalse\u001b[0m\u001b[0;34m\u001b[0m\u001b[0;34m\u001b[0m\u001b[0m\n\u001b[1;32m   1404\u001b[0m     ) as handle:\n",
            "\u001b[0;32m/usr/local/lib/python3.10/dist-packages/pandas/io/common.py\u001b[0m in \u001b[0;36mget_handle\u001b[0;34m(path_or_buf, mode, encoding, compression, memory_map, is_text, errors, storage_options)\u001b[0m\n\u001b[1;32m    880\u001b[0m         \u001b[0;32melse\u001b[0m\u001b[0;34m:\u001b[0m\u001b[0;34m\u001b[0m\u001b[0;34m\u001b[0m\u001b[0m\n\u001b[1;32m    881\u001b[0m             \u001b[0;31m# Binary mode\u001b[0m\u001b[0;34m\u001b[0m\u001b[0;34m\u001b[0m\u001b[0m\n\u001b[0;32m--> 882\u001b[0;31m             \u001b[0mhandle\u001b[0m \u001b[0;34m=\u001b[0m \u001b[0mopen\u001b[0m\u001b[0;34m(\u001b[0m\u001b[0mhandle\u001b[0m\u001b[0;34m,\u001b[0m \u001b[0mioargs\u001b[0m\u001b[0;34m.\u001b[0m\u001b[0mmode\u001b[0m\u001b[0;34m)\u001b[0m\u001b[0;34m\u001b[0m\u001b[0;34m\u001b[0m\u001b[0m\n\u001b[0m\u001b[1;32m    883\u001b[0m         \u001b[0mhandles\u001b[0m\u001b[0;34m.\u001b[0m\u001b[0mappend\u001b[0m\u001b[0;34m(\u001b[0m\u001b[0mhandle\u001b[0m\u001b[0;34m)\u001b[0m\u001b[0;34m\u001b[0m\u001b[0;34m\u001b[0m\u001b[0m\n\u001b[1;32m    884\u001b[0m \u001b[0;34m\u001b[0m\u001b[0m\n",
            "\u001b[0;31mFileNotFoundError\u001b[0m: [Errno 2] No such file or directory: 'mon_fichier.xlsx'"
          ]
        }
      ]
    },
    {
      "cell_type": "code",
      "source": [],
      "metadata": {
        "id": "3zGHwdZfFhMr"
      },
      "execution_count": null,
      "outputs": []
    },
    {
      "cell_type": "markdown",
      "source": [
        "# Devoir\n",
        "### 1. **Manipulation de listes**\n",
        "   - Écrivez un programme pour créer une liste de nombres entiers de 1 à 10. Ensuite, ajoutez 11 à la fin de la liste et insérez 0 au début.\n",
        "   - Supprimez l’élément au milieu de la liste (la position dépend de la longueur de la liste).\n",
        "   - Affichez la liste finale.\n",
        "\n",
        "### 2. **Boucle `for` avec une liste**\n",
        "   - Écrivez une boucle `for` pour afficher chaque élément d’une liste de mots. Ensuite, utilisez une boucle `for` pour afficher uniquement les mots de plus de 4 lettres.\n",
        "   - Exemple de liste : `[\"Python\", \"est\", \"amusant\", \"et\", \"puissant\"]`\n",
        "\n",
        "### 3. **Création et appel de fonctions**\n",
        "   - Écrivez une fonction appelée `addition` qui prend deux nombres en paramètres et retourne leur somme.\n",
        "   - Écrivez une fonction `multiplication` qui prend une liste de nombres et retourne leur produit.\n",
        "   - Appelez les fonctions et affichez les résultats pour tester leur fonctionnement.\n",
        "\n",
        "### 4. **Calcul de la moyenne avec une fonction**\n",
        "   - Créez une fonction `moyenne` qui prend une liste de nombres et retourne la moyenne.\n",
        "   - Testez la fonction avec une liste d’exemples et affichez la moyenne.\n",
        "\n",
        "### 5. **Introduction à `numpy` : Tableaux et opérations**\n",
        "   - Utilisez `numpy` pour créer un tableau (array) de nombres de 0 à 9.\n",
        "   - Calculez la somme, la moyenne, le maximum et le minimum de ce tableau et affichez les résultats.\n",
        "   - Multipliez chaque élément du tableau par 2.\n",
        "\n",
        "### 6. **Utilisation de `numpy` pour générer des données aléatoires**\n",
        "   - Utilisez `numpy` pour générer un tableau de 10 nombres aléatoires entre 0 et 1.\n",
        "   - Calculez et affichez la somme et la moyenne des valeurs générées.\n",
        "   - Triez le tableau par ordre croissant.\n",
        "\n",
        "### 7. **Tracer des données simples avec `matplotlib` : Graphique en ligne**\n",
        "   - Créez une liste de nombres de 1 à 10 pour l’axe *x* et une liste de leurs carrés pour l’axe *y*.\n",
        "   - Utilisez `matplotlib` pour tracer un graphique en ligne avec ces valeurs.\n",
        "   - Ajoutez un titre et des étiquettes aux axes.\n",
        "\n",
        "### 8. **Histogramme avec `matplotlib` et `numpy`**\n",
        "   - Utilisez `numpy` pour générer 1000 valeurs aléatoires suivant une distribution normale (moyenne 0, écart-type 1).\n",
        "   - Utilisez `matplotlib` pour tracer un histogramme des valeurs générées.\n",
        "   - Ajoutez un titre et des étiquettes pour décrire le graphique.\n",
        "\n",
        "### 9. **Boucles imbriquées et `numpy` : Tableau 2D**\n",
        "   - Utilisez `numpy` pour créer un tableau 2D (5x5) rempli de zéros.\n",
        "   - Remplissez chaque cellule avec la valeur de la somme de ses indices `(i + j)`.\n",
        "   - Affichez le tableau.\n",
        "\n",
        "### 10. **Visualisation de données avec `matplotlib` : Tracé multiple**\n",
        "   - Utilisez `numpy` pour générer une liste de 100 valeurs pour *x* entre 0 et \\( 2\\pi \\).\n",
        "   - Calculez deux listes : `sin(x)` et `cos(x)`.\n",
        "   - Utilisez `matplotlib` pour tracer les courbes de `sin(x)` et `cos(x)` sur le même graphique, avec des couleurs et des légendes différentes.\n",
        "   - Ajoutez un titre, des étiquettes pour les axes et une légende.\n",
        "\n",
        "---\n",
        "\n",
        "Ces exercices couvrent les bases des structures de données, des boucles, des fonctions, ainsi que l’utilisation de `numpy` et `matplotlib` pour le traitement et la visualisation des données. Ils offrent une bonne progression pour apprendre les concepts fondamentaux de Python."
      ],
      "metadata": {
        "id": "rbAg6FyePuJT"
      }
    },
    {
      "cell_type": "code",
      "source": [
        "#1. Manipulation de listes\n",
        "#Écrivez un programme pour créer une liste de nombres entiers de 1 à 10. Ensuite, ajoutez 11 à la fin de la liste et insérez 0 au début.\n",
        "liste = list(range(1, 11))\n",
        "liste.append(11)\n",
        "liste.insert(0, 0)\n",
        "#Supprimez l’élément au milieu de la liste (la position dépend de la longueur de la liste).\n",
        "if len(liste) % 2 == 0: #even\n",
        "  middle_index = len(liste) // 2 - 1 #12 elements #element at index 5 would be removed\n",
        "else:\n",
        "  middle_index = len(liste) // 2\n",
        "del liste[middle_index]\n",
        "#Affichez la liste finale.\n",
        "print(liste)"
      ],
      "metadata": {
        "id": "oRwijJDWQCiK",
        "colab": {
          "base_uri": "https://localhost:8080/"
        },
        "outputId": "d3291c38-c27e-4868-b715-cece33564f23"
      },
      "execution_count": 99,
      "outputs": [
        {
          "output_type": "stream",
          "name": "stdout",
          "text": [
            "[0, 1, 2, 3, 4, 6, 7, 8, 9, 10, 11]\n"
          ]
        }
      ]
    },
    {
      "cell_type": "code",
      "source": [
        "#Boucle for avec une liste\n",
        "#Écrivez une boucle for pour afficher chaque élément d’une liste de mots. Ensuite, utilisez une boucle for pour afficher uniquement les mots de plus de 4 lettres.\n",
        "#Exemple de liste : [\"Python\", \"est\", \"amusant\", \"et\", \"puissant\"]\n",
        "mots = [\"Python\", \"est\", \"amusant\", \"et\", \"puissant\"]\n",
        "print(\"Tous les mots de la liste :\")\n",
        "for mot in mots:\n",
        "    print(mot)\n",
        "print(\"\\nMots de plus de 4 lettres :\")\n",
        "for mot in mots:\n",
        "    if len(mot) > 4:\n",
        "        print(mot)"
      ],
      "metadata": {
        "id": "niftQAnlFnVC",
        "outputId": "93690779-f49e-452f-b779-55c03e70f05f",
        "colab": {
          "base_uri": "https://localhost:8080/"
        }
      },
      "execution_count": 102,
      "outputs": [
        {
          "output_type": "stream",
          "name": "stdout",
          "text": [
            "Tous les mots de la liste :\n",
            "Python\n",
            "est\n",
            "amusant\n",
            "et\n",
            "puissant\n",
            "\n",
            "Mots de plus de 4 lettres :\n",
            "Python\n",
            "amusant\n",
            "puissant\n"
          ]
        }
      ]
    },
    {
      "cell_type": "code",
      "source": [
        "#3. Création et appel de fonctions\n",
        "#Écrivez une fonction appelée addition qui prend deux nombres en paramètres et retourne leur somme.\n",
        "def addition(a, b):\n",
        "    return a + b\n",
        "#Écrivez une fonction multiplication qui prend une liste de nombres et retourne leur produit.\n",
        "def multiplication(liste):\n",
        "    produit = 1\n",
        "    for nombre in liste:\n",
        "        produit *= nombre\n",
        "    return produit\n",
        "#Appelez les fonctions et affichez les résultats pour tester leur fonctionnement.\n",
        "resultat_addition = addition(5, 3)\n",
        "print(f\"Résultat de l'addition : {resultat_addition}\")\n",
        "\n",
        "liste = [1,2,3,4]\n",
        "resultat_multiplication = multiplication(liste)\n",
        "print(f\"Résultat de la multiplication : {resultat_multiplication}\")"
      ],
      "metadata": {
        "id": "P0EUD_UZGm-V",
        "outputId": "00cec5d1-4aac-4403-cb60-c2d7f2d3c17e",
        "colab": {
          "base_uri": "https://localhost:8080/"
        }
      },
      "execution_count": 103,
      "outputs": [
        {
          "output_type": "stream",
          "name": "stdout",
          "text": [
            "Résultat de l'addition : 8\n",
            "Résultat de la multiplication : 24\n"
          ]
        }
      ]
    },
    {
      "cell_type": "code",
      "source": [
        "#4. Calcul de la moyenne avec une fonction\n",
        "#Créez une fonction moyenne qui prend une liste de nombres et retourne la moyenne.\n",
        "def moyenne(liste):\n",
        "    if len(liste) == 0:\n",
        "      return 'indeterminee'  # Éviter la division par zéro si la liste est vide\n",
        "    return sum(liste) / len(liste)\n",
        "#Testez la fonction avec une liste d’exemples et affichez la moyenne.\n",
        "liste = []\n",
        "resultat_moyenne = moyenne(liste)\n",
        "print(\"La moyenne de la liste\", liste, \"est :\", resultat_moyenne)"
      ],
      "metadata": {
        "id": "jDt__YdvMUR8",
        "outputId": "4b64fdbb-be4b-4153-8f51-73c3c33f049e",
        "colab": {
          "base_uri": "https://localhost:8080/"
        }
      },
      "execution_count": 110,
      "outputs": [
        {
          "output_type": "stream",
          "name": "stdout",
          "text": [
            "La moyenne de la liste [] est : indeterminee\n"
          ]
        }
      ]
    },
    {
      "cell_type": "code",
      "source": [
        "#5. Introduction à numpy : Tableaux et opérations\n",
        "#Utilisez numpy pour créer un tableau (array) de nombres de 0 à 9.\n",
        "import numpy as np\n",
        "tableau = np.arange(10)\n",
        "#Calculez la somme, la moyenne, le maximum et le minimum de ce tableau et affichez les résultats.\n",
        "print(\"Tableau :\", tableau)\n",
        "print(\"Somme :\", np.sum(tableau))\n",
        "print(\"Moyenne :\", np.mean(tableau))\n",
        "print(\"Maximum :\", np.max(tableau))\n",
        "print(\"Minimum :\", np.min(tableau))\n",
        "#Multipliez chaque élément du tableau par 2.\n",
        "tableau_x2 = tableau * 2\n",
        "print(\"Tableau multiplié :\", tableau_x2)"
      ],
      "metadata": {
        "id": "_kSdrQy1Mcpr",
        "outputId": "e8f12996-fcc5-47d2-bde3-6a76d795425e",
        "colab": {
          "base_uri": "https://localhost:8080/"
        }
      },
      "execution_count": 115,
      "outputs": [
        {
          "output_type": "stream",
          "name": "stdout",
          "text": [
            "Tableau : [0 1 2 3 4 5 6 7 8 9]\n",
            "Somme : 45\n",
            "Moyenne : 4.5\n",
            "Maximum : 9\n",
            "Minimum : 0\n",
            "Tableau multiplié : [ 0  2  4  6  8 10 12 14 16 18]\n"
          ]
        }
      ]
    },
    {
      "cell_type": "code",
      "source": [
        "#6. Utilisation de numpy pour générer des données aléatoires\n",
        "#Utilisez numpy pour générer un tableau de 10 nombres aléatoires entre 0 et 1.\n",
        "import numpy as np\n",
        "tableau_aleatoire = np.random.rand(10)\n",
        "#Calculez et affichez la somme et la moyenne des valeurs générées.\n",
        "somme = np.sum(tableau_aleatoire)\n",
        "moyenne = np.mean(tableau_aleatoire)\n",
        "print(\"Tableau aléatoire :\", tableau_aleatoire)\n",
        "print(\"Somme :\", somme)\n",
        "print(\"Moyenne :\", moyenne)\n",
        "#Triez le tableau par ordre croissant.\n",
        "tableau_aleatoire_trie = np.sort(tableau_aleatoire)\n",
        "print(\"Tableau trié par ordre croissant : \", tableau_aleatoire_trie)"
      ],
      "metadata": {
        "id": "UbUvoR1UMf-y",
        "outputId": "730782da-569a-449c-d070-55ab3265e656",
        "colab": {
          "base_uri": "https://localhost:8080/"
        }
      },
      "execution_count": 116,
      "outputs": [
        {
          "output_type": "stream",
          "name": "stdout",
          "text": [
            "Tableau aléatoire : [0.50623451 0.71687709 0.22879829 0.14630532 0.54437455 0.16966433\n",
            " 0.7908224  0.88607881 0.26959195 0.79657962]\n",
            "Somme : 5.05532686083407\n",
            "Moyenne : 0.505532686083407\n",
            "Tableau trié par ordre croissant :  [0.14630532 0.16966433 0.22879829 0.26959195 0.50623451 0.54437455\n",
            " 0.71687709 0.7908224  0.79657962 0.88607881]\n"
          ]
        }
      ]
    },
    {
      "cell_type": "code",
      "source": [
        "#7. Tracer des données simples avec matplotlib : Graphique en ligne\n",
        "#Créez une liste de nombres de 1 à 10 pour l’axe x et une liste de leurs carrés pour l’axe y.\n",
        "x = list(range(1, 11))\n",
        "y = []\n",
        "for i in x:\n",
        "  y.append(i**2)\n",
        "#Utilisez matplotlib pour tracer un graphique en ligne avec ces valeurs.\n",
        "import matplotlib.pyplot as plt\n",
        "plt.plot(x, y, marker='o', color='b', linestyle='-')\n",
        "#Ajoutez un titre et des étiquettes aux axes.\n",
        "plt.title('Graphique en ligne des carrés des nombres de 1 à 10')\n",
        "plt.xlabel('Nombres')\n",
        "plt.ylabel('Carrés')\n",
        "plt.show()"
      ],
      "metadata": {
        "id": "NqxaBEgqMiLf",
        "outputId": "05541523-c61e-4c4c-8efc-e512c2daff12",
        "colab": {
          "base_uri": "https://localhost:8080/",
          "height": 472
        }
      },
      "execution_count": 117,
      "outputs": [
        {
          "output_type": "display_data",
          "data": {
            "text/plain": [
              "<Figure size 640x480 with 1 Axes>"
            ],
            "image/png": "[encoded data removed]"
          },
          "metadata": {}
        }
      ]
    },
    {
      "cell_type": "code",
      "source": [
        "#8. Histogramme avec matplotlib et numpy\n",
        "#Utilisez numpy pour générer 1000 valeurs aléatoires suivant une distribution normale (moyenne 0, écart-type 1).\n",
        "import numpy as np\n",
        "valeurs_aléatoires = np.random.normal(0, 1, 1000)\n",
        "#Utilisez matplotlib pour tracer un histogramme des valeurs générées.\n",
        "import matplotlib.pyplot as plt\n",
        "plt.hist(valeurs_aléatoires, bins=30, color='skyblue', edgecolor='black')\n",
        "#Ajoutez un titre et des étiquettes pour décrire le graphique.\n",
        "plt.title(\"Histogramme des valeurs générées suivant une distribution normale\")\n",
        "plt.xlabel(\"Valeurs\")\n",
        "plt.ylabel(\"Fréquence\")\n",
        "plt.show()"
      ],
      "metadata": {
        "id": "N0m__cIsMiEr",
        "outputId": "c0693dc3-7f59-4d29-8763-66d607e9914c",
        "colab": {
          "base_uri": "https://localhost:8080/",
          "height": 472
        }
      },
      "execution_count": 118,
      "outputs": [
        {
          "output_type": "display_data",
          "data": {
            "text/plain": [
              "<Figure size 640x480 with 1 Axes>"
            ],
            "image/png": "[encoded data removed]"
          },
          "metadata": {}
        }
      ]
    },
    {
      "cell_type": "code",
      "source": [
        "#9. Boucles imbriquées et numpy : Tableau 2D\n",
        "#Utilisez numpy pour créer un tableau 2D (5x5) rempli de zéros.\n",
        "import numpy as np\n",
        "tableau = np.zeros((5, 5), dtype=int)\n",
        "#Remplissez chaque cellule avec la valeur de la somme de ses indices (i + j).\n",
        "for i in range(tableau.shape[0]):  # Boucle sur les lignes\n",
        "    for j in range(tableau.shape[1]):  # Boucle sur les colonnes\n",
        "        tableau[i, j] = i + j\n",
        "#Affichez le tableau.\n",
        "print(tableau)"
      ],
      "metadata": {
        "id": "JUGwoHhGMmI5",
        "outputId": "dba1ac72-61cc-43a3-9c80-42a53fa55c27",
        "colab": {
          "base_uri": "https://localhost:8080/"
        }
      },
      "execution_count": 119,
      "outputs": [
        {
          "output_type": "stream",
          "name": "stdout",
          "text": [
            "[[0 1 2 3 4]\n",
            " [1 2 3 4 5]\n",
            " [2 3 4 5 6]\n",
            " [3 4 5 6 7]\n",
            " [4 5 6 7 8]]\n"
          ]
        }
      ]
    },
    {
      "cell_type": "code",
      "source": [
        "# Visualisation de données avec matplotlib : Tracé multiple\n",
        "#Utilisez numpy pour générer une liste de 100 valeurs pour x entre 0 et ( 2\\pi ).\n",
        "\n",
        "import numpy as np\n",
        "x = np.linspace(0, 2 * np.pi, 100)\n",
        "#Calculez deux listes : sin(x) et cos(x).\n",
        "sin_x = np.sin(x)\n",
        "cos_x = np.cos(x)\n",
        "#Utilisez matplotlib pour tracer les courbes de sin(x) et cos(x) sur le même graphique, avec des couleurs et des légendes différentes.\n",
        "plt.plot(x, sin_x, label='sin(x)', color='blue')  # Courbe de sin(x), couleur bleue\n",
        "plt.plot(x, cos_x, label='cos(x)', color='red')  # Courbe de cos(x), couleur rouge\n",
        "#Ajoutez un titre, des étiquettes pour les axes et une légende.\n",
        "plt.title(\"Courbes de sin(x) et cos(x)\")\n",
        "plt.xlabel(\"x\")\n",
        "plt.ylabel(\"sin(x) et cos(x)\")\n",
        "plt.legend()\n",
        "plt.show()"
      ],
      "metadata": {
        "id": "IdMlGqc9MoXn",
        "outputId": "bafc9664-718b-4900-96df-544005129478",
        "colab": {
          "base_uri": "https://localhost:8080/",
          "height": 472
        }
      },
      "execution_count": 121,
      "outputs": [
        {
          "output_type": "display_data",
          "data": {
            "text/plain": [
              "<Figure size 640x480 with 1 Axes>"
            ],
            "image/png": "[encoded data removed]"
          },
          "metadata": {}
        }
      ]
    }
  ],
  "metadata": {
    "colab": {
      "provenance": [],
      "include_colab_link": true
    },
    "kernelspec": {
      "display_name": "Python 3",
      "name": "python3"
    },
    "language_info": {
      "name": "python"
    }
  },
  "nbformat": 4,
  "nbformat_minor": 0
}